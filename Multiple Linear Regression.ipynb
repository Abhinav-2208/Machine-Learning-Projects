{
 "cells": [
  {
   "cell_type": "markdown",
   "id": "4e5a8996",
   "metadata": {},
   "source": [
    "# Importing required libraries"
   ]
  },
  {
   "cell_type": "code",
   "execution_count": 1,
   "id": "08fc12cd",
   "metadata": {},
   "outputs": [],
   "source": [
    "import numpy as np\n",
    "import pandas as pd\n",
    "import matplotlib.pyplot as plt\n",
    "import seaborn as sns"
   ]
  },
  {
   "cell_type": "markdown",
   "id": "b4ec5f78",
   "metadata": {},
   "source": [
    "# Importing the dataset "
   ]
  },
  {
   "cell_type": "code",
   "execution_count": 2,
   "id": "e06e38ed",
   "metadata": {},
   "outputs": [],
   "source": [
    "df=pd.read_csv('covid data multiple linear regression.csv')"
   ]
  },
  {
   "cell_type": "code",
   "execution_count": 3,
   "id": "da3499af",
   "metadata": {},
   "outputs": [
    {
     "data": {
      "text/html": [
       "<div>\n",
       "<style scoped>\n",
       "    .dataframe tbody tr th:only-of-type {\n",
       "        vertical-align: middle;\n",
       "    }\n",
       "\n",
       "    .dataframe tbody tr th {\n",
       "        vertical-align: top;\n",
       "    }\n",
       "\n",
       "    .dataframe thead th {\n",
       "        text-align: right;\n",
       "    }\n",
       "</style>\n",
       "<table border=\"1\" class=\"dataframe\">\n",
       "  <thead>\n",
       "    <tr style=\"text-align: right;\">\n",
       "      <th></th>\n",
       "      <th>age</th>\n",
       "      <th>Body Temp</th>\n",
       "      <th>Chronic disease</th>\n",
       "      <th>Blood O2 Level in Percentage</th>\n",
       "      <th>Anti Bodies</th>\n",
       "    </tr>\n",
       "  </thead>\n",
       "  <tbody>\n",
       "    <tr>\n",
       "      <th>0</th>\n",
       "      <td>10</td>\n",
       "      <td>Moderate</td>\n",
       "      <td>0</td>\n",
       "      <td>97</td>\n",
       "      <td>127181</td>\n",
       "    </tr>\n",
       "    <tr>\n",
       "      <th>1</th>\n",
       "      <td>80</td>\n",
       "      <td>High</td>\n",
       "      <td>0</td>\n",
       "      <td>92</td>\n",
       "      <td>61004</td>\n",
       "    </tr>\n",
       "    <tr>\n",
       "      <th>2</th>\n",
       "      <td>10</td>\n",
       "      <td>Low</td>\n",
       "      <td>0</td>\n",
       "      <td>97</td>\n",
       "      <td>111911</td>\n",
       "    </tr>\n",
       "  </tbody>\n",
       "</table>\n",
       "</div>"
      ],
      "text/plain": [
       "   age Body Temp  Chronic disease  Blood O2 Level in Percentage  Anti Bodies\n",
       "0   10  Moderate                0                            97       127181\n",
       "1   80      High                0                            92        61004\n",
       "2   10       Low                0                            97       111911"
      ]
     },
     "execution_count": 3,
     "metadata": {},
     "output_type": "execute_result"
    }
   ],
   "source": [
    "df.head(3)"
   ]
  },
  {
   "cell_type": "markdown",
   "id": "e98429e0",
   "metadata": {},
   "source": [
    "# Extracting the dependent and independent data from the dataframe i.e x and y"
   ]
  },
  {
   "cell_type": "code",
   "execution_count": 4,
   "id": "016b1b06",
   "metadata": {},
   "outputs": [],
   "source": [
    "x=df.iloc[:,0:-1].values\n",
    "y=df.iloc[:,-1].values"
   ]
  },
  {
   "cell_type": "code",
   "execution_count": 5,
   "id": "c9c41c2c",
   "metadata": {},
   "outputs": [
    {
     "data": {
      "text/plain": [
       "(array([[10, 'Moderate', 0, 97],\n",
       "        [80, 'High', 0, 92],\n",
       "        [10, 'Low', 0, 97],\n",
       "        [81, 'High', 4, 75],\n",
       "        [12, 'Moderate', 0, 97],\n",
       "        [18, 'Low', 0, 66],\n",
       "        [13, 'Moderate', 0, 93],\n",
       "        [94, 'High', 4, 64],\n",
       "        [86, 'High', 2, 76],\n",
       "        [20, 'Moderate', 0, 92],\n",
       "        [15, 'Moderate', 0, 94],\n",
       "        [15, 'Moderate', 0, 92],\n",
       "        [16, 'Low', 0, 92],\n",
       "        [17, 'Moderate', 0, 93],\n",
       "        [18, 'Moderate', 0, 93],\n",
       "        [19, 'Moderate', 0, 92],\n",
       "        [19, 'Moderate', 0, 89],\n",
       "        [12, 'Moderate', 0, 97],\n",
       "        [20, 'Moderate', 0, 93],\n",
       "        [24, 'Moderate', 0, 92],\n",
       "        [25, 'Moderate', 0, 93],\n",
       "        [59, 'High', 2, 68],\n",
       "        [63, 'High', 1, 66],\n",
       "        [25, 'Moderate', 1, 62],\n",
       "        [26, 'High', 0, 94],\n",
       "        [26, 'Low', 0, 97],\n",
       "        [28, 'Moderate', 0, 99],\n",
       "        [59, 'High', 0, 69],\n",
       "        [28, 'Moderate', 0, 89],\n",
       "        [29, 'Moderate', 0, 93],\n",
       "        [48, 'Moderate', 0, 93],\n",
       "        [30, 'Moderate', 0, 62],\n",
       "        [30, 'Moderate', 0, 86],\n",
       "        [32, 'Moderate', 0, 84],\n",
       "        [34, 'Moderate', 1, 90],\n",
       "        [35, 'Moderate', 0, 89],\n",
       "        [50, 'High', 2, 77],\n",
       "        [56, 'High', 2, 76],\n",
       "        [56, 'High', 1, 77],\n",
       "        [36, 'High', 1, 90],\n",
       "        [38, 'High', 2, 75],\n",
       "        [40, 'Moderate', 0, 90],\n",
       "        [40, 'High', 0, 92],\n",
       "        [61, 'High', 2, 76],\n",
       "        [42, 'High', 0, 92],\n",
       "        [46, 'High', 0, 91],\n",
       "        [49, 'Moderate', 0, 80],\n",
       "        [52, 'High', 1, 80],\n",
       "        [32, 'Moderate', 0, 89],\n",
       "        [53, 'High', 1, 55],\n",
       "        [54, 'High', 1, 70],\n",
       "        [90, 'High', 3, 67],\n",
       "        [78, 'High', 2, 71],\n",
       "        [58, 'High', 0, 70],\n",
       "        [60, 'High', 1, 68],\n",
       "        [61, 'Moderate', 0, 90],\n",
       "        [62, 'High', 1, 68],\n",
       "        [86, 'High', 3, 71],\n",
       "        [62, 'High', 2, 69],\n",
       "        [64, 'High', 1, 73],\n",
       "        [68, 'High', 1, 67],\n",
       "        [69, 'High', 0, 53],\n",
       "        [70, 'Moderate', 1, 88],\n",
       "        [74, 'High', 2, 75],\n",
       "        [75, 'High', 1, 72],\n",
       "        [76, 'High', 4, 80],\n",
       "        [35, 'Moderate', 0, 92],\n",
       "        [13, 'Moderate', 0, 94],\n",
       "        [82, 'High', 3, 73],\n",
       "        [84, 'High', 3, 75]], dtype=object),\n",
       " array([127181,  61004, 111911,  39010, 110911,  99110, 110101,  37914,\n",
       "         45019,  98101, 101000, 102019, 100000,  99910,  99004,  98191,\n",
       "         98081, 110911,  97101,  95202,  95010,  61002,  59994,  78010,\n",
       "         92010,  99008,  93010,  66019,  93091,  92101,  83891,  75012,\n",
       "         91002,  90015,  90001,  90124,  71019,  60801,  67010,  90191,\n",
       "         78004,  87019,  88012,  62019,  87005,  84008,  77010,  73010,\n",
       "         91019,  50104,  61082,  46016,  52001,  63091,  62019,  71191,\n",
       "         61018,  41891,  56095,  62001,  59010,  59913,  67019,  58010,\n",
       "         57019,  39010,  91141, 112101,  42010,  42099], dtype=int64))"
      ]
     },
     "execution_count": 5,
     "metadata": {},
     "output_type": "execute_result"
    }
   ],
   "source": [
    "x,y"
   ]
  },
  {
   "cell_type": "code",
   "execution_count": 6,
   "id": "f7065e18",
   "metadata": {},
   "outputs": [
    {
     "data": {
      "text/plain": [
       "(70, 5)"
      ]
     },
     "execution_count": 6,
     "metadata": {},
     "output_type": "execute_result"
    }
   ],
   "source": [
    "df.shape"
   ]
  },
  {
   "cell_type": "markdown",
   "id": "dd9cdc33",
   "metadata": {},
   "source": [
    "# Encoding categorical data"
   ]
  },
  {
   "cell_type": "markdown",
   "id": "e6b1becc",
   "metadata": {},
   "source": [
    "Since I am working with regression algorithm and having the categorical data in the dataset will create problem so i will encode it first and then proced further to do anything..."
   ]
  },
  {
   "cell_type": "code",
   "execution_count": 7,
   "id": "c2bb83c2",
   "metadata": {},
   "outputs": [],
   "source": [
    "from sklearn.compose import ColumnTransformer\n",
    "from sklearn.preprocessing import OneHotEncoder\n",
    "ct=ColumnTransformer(transformers=[('encoder',OneHotEncoder(),[1])],remainder='passthrough')\n",
    "x=np.array(ct.fit_transform(x))"
   ]
  },
  {
   "cell_type": "code",
   "execution_count": 8,
   "id": "997c407e",
   "metadata": {},
   "outputs": [
    {
     "name": "stdout",
     "output_type": "stream",
     "text": [
      "<class 'pandas.core.frame.DataFrame'>\n",
      "RangeIndex: 70 entries, 0 to 69\n",
      "Data columns (total 5 columns):\n",
      " #   Column                        Non-Null Count  Dtype \n",
      "---  ------                        --------------  ----- \n",
      " 0   age                           70 non-null     int64 \n",
      " 1   Body Temp                     70 non-null     object\n",
      " 2   Chronic disease               70 non-null     int64 \n",
      " 3   Blood O2 Level in Percentage  70 non-null     int64 \n",
      " 4   Anti Bodies                   70 non-null     int64 \n",
      "dtypes: int64(4), object(1)\n",
      "memory usage: 2.9+ KB\n"
     ]
    }
   ],
   "source": [
    "df.info()"
   ]
  },
  {
   "cell_type": "code",
   "execution_count": 9,
   "id": "a2b16f15",
   "metadata": {},
   "outputs": [
    {
     "name": "stdout",
     "output_type": "stream",
     "text": [
      "[[0.0 0.0 1.0 10 0 97]\n",
      " [1.0 0.0 0.0 80 0 92]\n",
      " [0.0 1.0 0.0 10 0 97]\n",
      " [1.0 0.0 0.0 81 4 75]\n",
      " [0.0 0.0 1.0 12 0 97]\n",
      " [0.0 1.0 0.0 18 0 66]\n",
      " [0.0 0.0 1.0 13 0 93]\n",
      " [1.0 0.0 0.0 94 4 64]\n",
      " [1.0 0.0 0.0 86 2 76]\n",
      " [0.0 0.0 1.0 20 0 92]\n",
      " [0.0 0.0 1.0 15 0 94]\n",
      " [0.0 0.0 1.0 15 0 92]\n",
      " [0.0 1.0 0.0 16 0 92]\n",
      " [0.0 0.0 1.0 17 0 93]\n",
      " [0.0 0.0 1.0 18 0 93]\n",
      " [0.0 0.0 1.0 19 0 92]\n",
      " [0.0 0.0 1.0 19 0 89]\n",
      " [0.0 0.0 1.0 12 0 97]\n",
      " [0.0 0.0 1.0 20 0 93]\n",
      " [0.0 0.0 1.0 24 0 92]\n",
      " [0.0 0.0 1.0 25 0 93]\n",
      " [1.0 0.0 0.0 59 2 68]\n",
      " [1.0 0.0 0.0 63 1 66]\n",
      " [0.0 0.0 1.0 25 1 62]\n",
      " [1.0 0.0 0.0 26 0 94]\n",
      " [0.0 1.0 0.0 26 0 97]\n",
      " [0.0 0.0 1.0 28 0 99]\n",
      " [1.0 0.0 0.0 59 0 69]\n",
      " [0.0 0.0 1.0 28 0 89]\n",
      " [0.0 0.0 1.0 29 0 93]\n",
      " [0.0 0.0 1.0 48 0 93]\n",
      " [0.0 0.0 1.0 30 0 62]\n",
      " [0.0 0.0 1.0 30 0 86]\n",
      " [0.0 0.0 1.0 32 0 84]\n",
      " [0.0 0.0 1.0 34 1 90]\n",
      " [0.0 0.0 1.0 35 0 89]\n",
      " [1.0 0.0 0.0 50 2 77]\n",
      " [1.0 0.0 0.0 56 2 76]\n",
      " [1.0 0.0 0.0 56 1 77]\n",
      " [1.0 0.0 0.0 36 1 90]\n",
      " [1.0 0.0 0.0 38 2 75]\n",
      " [0.0 0.0 1.0 40 0 90]\n",
      " [1.0 0.0 0.0 40 0 92]\n",
      " [1.0 0.0 0.0 61 2 76]\n",
      " [1.0 0.0 0.0 42 0 92]\n",
      " [1.0 0.0 0.0 46 0 91]\n",
      " [0.0 0.0 1.0 49 0 80]\n",
      " [1.0 0.0 0.0 52 1 80]\n",
      " [0.0 0.0 1.0 32 0 89]\n",
      " [1.0 0.0 0.0 53 1 55]\n",
      " [1.0 0.0 0.0 54 1 70]\n",
      " [1.0 0.0 0.0 90 3 67]\n",
      " [1.0 0.0 0.0 78 2 71]\n",
      " [1.0 0.0 0.0 58 0 70]\n",
      " [1.0 0.0 0.0 60 1 68]\n",
      " [0.0 0.0 1.0 61 0 90]\n",
      " [1.0 0.0 0.0 62 1 68]\n",
      " [1.0 0.0 0.0 86 3 71]\n",
      " [1.0 0.0 0.0 62 2 69]\n",
      " [1.0 0.0 0.0 64 1 73]\n",
      " [1.0 0.0 0.0 68 1 67]\n",
      " [1.0 0.0 0.0 69 0 53]\n",
      " [0.0 0.0 1.0 70 1 88]\n",
      " [1.0 0.0 0.0 74 2 75]\n",
      " [1.0 0.0 0.0 75 1 72]\n",
      " [1.0 0.0 0.0 76 4 80]\n",
      " [0.0 0.0 1.0 35 0 92]\n",
      " [0.0 0.0 1.0 13 0 94]\n",
      " [1.0 0.0 0.0 82 3 73]\n",
      " [1.0 0.0 0.0 84 3 75]]\n"
     ]
    }
   ],
   "source": [
    "print(x)"
   ]
  },
  {
   "cell_type": "markdown",
   "id": "93b1e506",
   "metadata": {},
   "source": [
    "# Splitting the data into train_test_split"
   ]
  },
  {
   "cell_type": "code",
   "execution_count": 10,
   "id": "3e73eb21",
   "metadata": {},
   "outputs": [],
   "source": [
    "from sklearn.model_selection import train_test_split \n",
    "x_train,x_test,y_train,y_test=train_test_split(x,y,test_size=0.2,random_state=42)"
   ]
  },
  {
   "cell_type": "code",
   "execution_count": 11,
   "id": "64a87027",
   "metadata": {},
   "outputs": [
    {
     "data": {
      "text/plain": [
       "(56, 6)"
      ]
     },
     "execution_count": 11,
     "metadata": {},
     "output_type": "execute_result"
    }
   ],
   "source": [
    "x_train.shape"
   ]
  },
  {
   "cell_type": "code",
   "execution_count": 12,
   "id": "2ee83953",
   "metadata": {},
   "outputs": [
    {
     "data": {
      "text/plain": [
       "(56,)"
      ]
     },
     "execution_count": 12,
     "metadata": {},
     "output_type": "execute_result"
    }
   ],
   "source": [
    "y_train.shape"
   ]
  },
  {
   "cell_type": "code",
   "execution_count": 13,
   "id": "22a235c9",
   "metadata": {},
   "outputs": [
    {
     "data": {
      "text/plain": [
       "(14, 6)"
      ]
     },
     "execution_count": 13,
     "metadata": {},
     "output_type": "execute_result"
    }
   ],
   "source": [
    "x_test.shape"
   ]
  },
  {
   "cell_type": "markdown",
   "id": "73074ae8",
   "metadata": {},
   "source": [
    "# Training the multiple Linear Regression model on the training set"
   ]
  },
  {
   "cell_type": "code",
   "execution_count": 14,
   "id": "4a22a9d6",
   "metadata": {},
   "outputs": [],
   "source": [
    "from sklearn.linear_model import LinearRegression\n",
    "lr=LinearRegression()"
   ]
  },
  {
   "cell_type": "code",
   "execution_count": 15,
   "id": "8cf74eb7",
   "metadata": {},
   "outputs": [
    {
     "data": {
      "text/plain": [
       "LinearRegression()"
      ]
     },
     "execution_count": 15,
     "metadata": {},
     "output_type": "execute_result"
    }
   ],
   "source": [
    "lr.fit(x_train,y_train)"
   ]
  },
  {
   "cell_type": "markdown",
   "id": "2b78a8f8",
   "metadata": {},
   "source": [
    "# Predicting the model on testing set"
   ]
  },
  {
   "cell_type": "code",
   "execution_count": 16,
   "id": "a387f153",
   "metadata": {},
   "outputs": [
    {
     "name": "stdout",
     "output_type": "stream",
     "text": [
      "[ 60533.33522483 106619.44574447  62772.08993545 105434.51844076\n",
      "  62980.88650911  99354.4885685  102651.88699213  89229.20326704\n",
      "  82388.27687952 104969.02648192  83042.3669549   99019.40840415\n",
      " 103836.81429584  95072.01490493]\n"
     ]
    }
   ],
   "source": [
    "y_pred=lr.predict(x_test)\n",
    "print(y_pred)"
   ]
  },
  {
   "cell_type": "code",
   "execution_count": 17,
   "id": "98079e90",
   "metadata": {},
   "outputs": [
    {
     "name": "stdout",
     "output_type": "stream",
     "text": [
      "[ 59994 127181  50104 110911  62019  97101 101000  90015  84008 100000\n",
      "  75012  98101 112101  99110]\n"
     ]
    }
   ],
   "source": [
    "print(y_test)"
   ]
  },
  {
   "cell_type": "markdown",
   "id": "522bffdb",
   "metadata": {},
   "source": [
    "# To check the error and accuracy of the model I will import..."
   ]
  },
  {
   "cell_type": "markdown",
   "id": "dd405f89",
   "metadata": {},
   "source": [
    "MAE(Mean Absolute error), MSE(Mean squared error), RMSE(Root mean squre error), R2_Score, Adjusted R2_Score"
   ]
  },
  {
   "cell_type": "code",
   "execution_count": 18,
   "id": "00e45fa9",
   "metadata": {},
   "outputs": [],
   "source": [
    "from sklearn.metrics import mean_absolute_error, mean_squared_error,r2_score"
   ]
  },
  {
   "cell_type": "code",
   "execution_count": 19,
   "id": "10b88eb8",
   "metadata": {},
   "outputs": [
    {
     "name": "stdout",
     "output_type": "stream",
     "text": [
      "Mean absolute error is: 5195.586824172785\n"
     ]
    }
   ],
   "source": [
    "print('Mean absolute error is:',mean_absolute_error(y_test,y_pred))"
   ]
  },
  {
   "cell_type": "code",
   "execution_count": 20,
   "id": "0eb74f60",
   "metadata": {},
   "outputs": [
    {
     "name": "stdout",
     "output_type": "stream",
     "text": [
      "Mean squared error is: 57152676.84765665\n"
     ]
    }
   ],
   "source": [
    "print('Mean squared error is:',mean_squared_error(y_test,y_pred))"
   ]
  },
  {
   "cell_type": "code",
   "execution_count": 21,
   "id": "4a29c87c",
   "metadata": {},
   "outputs": [
    {
     "name": "stdout",
     "output_type": "stream",
     "text": [
      "Root mean square error is: 7559.938944704292\n"
     ]
    }
   ],
   "source": [
    "print('Root mean square error is:',np.sqrt(mean_squared_error(y_test,y_pred)))"
   ]
  },
  {
   "cell_type": "code",
   "execution_count": 22,
   "id": "68aed3f6",
   "metadata": {},
   "outputs": [
    {
     "name": "stdout",
     "output_type": "stream",
     "text": [
      "R2_Score is: 0.8721939373674318\n"
     ]
    }
   ],
   "source": [
    "print('R2_Score is:',r2_score(y_test,y_pred))"
   ]
  },
  {
   "cell_type": "markdown",
   "id": "e9403b7c",
   "metadata": {},
   "source": [
    "# Visualizing the model"
   ]
  },
  {
   "cell_type": "code",
   "execution_count": 23,
   "id": "4dc9f23c",
   "metadata": {},
   "outputs": [
    {
     "data": {
      "image/png": "[encoded data removed]",
      "text/plain": [
       "<Figure size 432x288 with 1 Axes>"
      ]
     },
     "metadata": {
      "needs_background": "light"
     },
     "output_type": "display_data"
    }
   ],
   "source": [
    "plt.plot(y_pred)\n",
    "plt.plot(y_test)\n",
    "plt.show()"
   ]
  },
  {
   "cell_type": "code",
   "execution_count": null,
   "id": "85dd3f9a",
   "metadata": {},
   "outputs": [],
   "source": []
  }
 ],
 "metadata": {
  "kernelspec": {
   "display_name": "Python 3 (ipykernel)",
   "language": "python",
   "name": "python3"
  },
  "language_info": {
   "codemirror_mode": {
    "name": "ipython",
    "version": 3
   },
   "file_extension": ".py",
   "mimetype": "text/x-python",
   "name": "python",
   "nbconvert_exporter": "python",
   "pygments_lexer": "ipython3",
   "version": "3.9.12"
  }
 },
 "nbformat": 4,
 "nbformat_minor": 5
}
