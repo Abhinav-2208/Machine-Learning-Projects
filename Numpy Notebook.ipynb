{
 "cells": [
  {
   "cell_type": "markdown",
   "id": "b24abc6d",
   "metadata": {},
   "source": [
    "## What is Numpy ?"
   ]
  },
  {
   "cell_type": "markdown",
   "id": "db804ab8",
   "metadata": {},
   "source": [
    "NumPy is the fundamental package for scientific computing in Python. It is a Python library that provides a multidimensional array object, various derived objects (such as masked arrays and matrices), and an assortment of routines for fast operations on arrays, including mathematical, logical, shape manipulation, sorting, selecting, I/O, discrete Fourier transforms, basic linear algebra, basic statistical operations, random simulation and much more.\n",
    "\n",
    "At the core of the NumPy package, is the ndarray object. This encapsulates n-dimensional arrays of homogeneous data types"
   ]
  },
  {
   "cell_type": "markdown",
   "id": "156bb703",
   "metadata": {},
   "source": [
    "### To check the version of Numpy use the following command.."
   ]
  },
  {
   "cell_type": "code",
   "execution_count": 1,
   "id": "43e3af6f",
   "metadata": {},
   "outputs": [
    {
     "name": "stdout",
     "output_type": "stream",
     "text": [
      "1.21.5\n"
     ]
    }
   ],
   "source": [
    "import numpy as np\n",
    "print(np.__version__)"
   ]
  },
  {
   "cell_type": "markdown",
   "id": "602afe0e",
   "metadata": {},
   "source": [
    "# 1. Creating Numpy array"
   ]
  },
  {
   "cell_type": "markdown",
   "id": "0fa680a2",
   "metadata": {},
   "source": [
    "np.array --> 0D,1D,2D,3D array can be created by using the np.array method"
   ]
  },
  {
   "cell_type": "code",
   "execution_count": 2,
   "id": "04f1235f",
   "metadata": {},
   "outputs": [],
   "source": [
    "arr=np.array([1,2,3])"
   ]
  },
  {
   "cell_type": "code",
   "execution_count": 3,
   "id": "c3db40b4",
   "metadata": {},
   "outputs": [
    {
     "name": "stdout",
     "output_type": "stream",
     "text": [
      "[1 2 3]\n"
     ]
    }
   ],
   "source": [
    "print(arr)"
   ]
  },
  {
   "cell_type": "markdown",
   "id": "d3ac0ed6",
   "metadata": {},
   "source": [
    "2D and 3D array"
   ]
  },
  {
   "cell_type": "code",
   "execution_count": 4,
   "id": "85b57575",
   "metadata": {},
   "outputs": [],
   "source": [
    "arr2=np.array([[10,20,30],[3,5,8]])"
   ]
  },
  {
   "cell_type": "code",
   "execution_count": 5,
   "id": "37a0e17d",
   "metadata": {},
   "outputs": [
    {
     "name": "stdout",
     "output_type": "stream",
     "text": [
      "[[10 20 30]\n",
      " [ 3  5  8]]\n"
     ]
    }
   ],
   "source": [
    "print(arr2)"
   ]
  },
  {
   "cell_type": "code",
   "execution_count": 6,
   "id": "e91cd371",
   "metadata": {},
   "outputs": [],
   "source": [
    "arr3=np.array([\n",
    "    [[1,2,3],[4,5,6]],\n",
    "    [[10,20,30],[40,50,60]],\n",
    "    [[100,200,300],[400,500,600]]\n",
    "])"
   ]
  },
  {
   "cell_type": "code",
   "execution_count": 7,
   "id": "76ff730b",
   "metadata": {},
   "outputs": [
    {
     "name": "stdout",
     "output_type": "stream",
     "text": [
      "[[[  1   2   3]\n",
      "  [  4   5   6]]\n",
      "\n",
      " [[ 10  20  30]\n",
      "  [ 40  50  60]]\n",
      "\n",
      " [[100 200 300]\n",
      "  [400 500 600]]]\n"
     ]
    }
   ],
   "source": [
    "print(arr3)"
   ]
  },
  {
   "cell_type": "markdown",
   "id": "0714852f",
   "metadata": {},
   "source": [
    "### To chek the type of array"
   ]
  },
  {
   "cell_type": "code",
   "execution_count": 8,
   "id": "9f2a42d5",
   "metadata": {},
   "outputs": [
    {
     "name": "stdout",
     "output_type": "stream",
     "text": [
      "<class 'numpy.ndarray'>\n"
     ]
    }
   ],
   "source": [
    "print(type(arr2))"
   ]
  },
  {
   "cell_type": "markdown",
   "id": "90dbfab6",
   "metadata": {},
   "source": [
    "### Array can be created of any dtype"
   ]
  },
  {
   "cell_type": "code",
   "execution_count": 9,
   "id": "ca444030",
   "metadata": {},
   "outputs": [],
   "source": [
    "a=np.array([2,4,6],dtype=float)"
   ]
  },
  {
   "cell_type": "code",
   "execution_count": 10,
   "id": "886cc7ea",
   "metadata": {},
   "outputs": [
    {
     "name": "stdout",
     "output_type": "stream",
     "text": [
      "[2. 4. 6.]\n"
     ]
    }
   ],
   "source": [
    "print(a)"
   ]
  },
  {
   "cell_type": "code",
   "execution_count": 11,
   "id": "c68cdd52",
   "metadata": {},
   "outputs": [],
   "source": [
    "a=np.array([2,4,6],dtype=bool)"
   ]
  },
  {
   "cell_type": "code",
   "execution_count": 12,
   "id": "efe80ef3",
   "metadata": {},
   "outputs": [
    {
     "name": "stdout",
     "output_type": "stream",
     "text": [
      "[ True  True  True]\n"
     ]
    }
   ],
   "source": [
    "print(a)"
   ]
  },
  {
   "cell_type": "code",
   "execution_count": 13,
   "id": "bddf249c",
   "metadata": {},
   "outputs": [],
   "source": [
    "a=np.array([2,4,6],dtype=complex)"
   ]
  },
  {
   "cell_type": "code",
   "execution_count": 14,
   "id": "c929fb81",
   "metadata": {},
   "outputs": [
    {
     "name": "stdout",
     "output_type": "stream",
     "text": [
      "[2.+0.j 4.+0.j 6.+0.j]\n"
     ]
    }
   ],
   "source": [
    "print(a)"
   ]
  },
  {
   "cell_type": "markdown",
   "id": "f1a534d3",
   "metadata": {},
   "source": [
    "#### arange() function also creat array of element in the given range"
   ]
  },
  {
   "cell_type": "code",
   "execution_count": 15,
   "id": "6aeefc8d",
   "metadata": {},
   "outputs": [],
   "source": [
    "c=np.arange(1,11)"
   ]
  },
  {
   "cell_type": "code",
   "execution_count": 16,
   "id": "2087c479",
   "metadata": {},
   "outputs": [
    {
     "name": "stdout",
     "output_type": "stream",
     "text": [
      "[ 1  2  3  4  5  6  7  8  9 10]\n"
     ]
    }
   ],
   "source": [
    "print(c)"
   ]
  },
  {
   "cell_type": "code",
   "execution_count": 17,
   "id": "c1c84a4e",
   "metadata": {},
   "outputs": [],
   "source": [
    "b=np.arange(1,11,2)"
   ]
  },
  {
   "cell_type": "code",
   "execution_count": 18,
   "id": "4a257f9a",
   "metadata": {},
   "outputs": [
    {
     "name": "stdout",
     "output_type": "stream",
     "text": [
      "[1 3 5 7 9]\n"
     ]
    }
   ],
   "source": [
    "print(b)"
   ]
  },
  {
   "cell_type": "markdown",
   "id": "b9af90b6",
   "metadata": {},
   "source": [
    "### reshape() method to convert in nd array"
   ]
  },
  {
   "cell_type": "code",
   "execution_count": 19,
   "id": "8af0e863",
   "metadata": {},
   "outputs": [
    {
     "data": {
      "text/plain": [
       "array([[ 1,  2],\n",
       "       [ 3,  4],\n",
       "       [ 5,  6],\n",
       "       [ 7,  8],\n",
       "       [ 9, 10]])"
      ]
     },
     "execution_count": 19,
     "metadata": {},
     "output_type": "execute_result"
    }
   ],
   "source": [
    "c.reshape(5,2)"
   ]
  },
  {
   "cell_type": "code",
   "execution_count": 20,
   "id": "2d665f8e",
   "metadata": {},
   "outputs": [
    {
     "data": {
      "text/plain": [
       "array([[ 1,  2,  3,  4,  5],\n",
       "       [ 6,  7,  8,  9, 10]])"
      ]
     },
     "execution_count": 20,
     "metadata": {},
     "output_type": "execute_result"
    }
   ],
   "source": [
    "c.reshape(2,5)"
   ]
  },
  {
   "cell_type": "markdown",
   "id": "9c090690",
   "metadata": {},
   "source": [
    "### By using np.ones() method we can create the array with all element as 1"
   ]
  },
  {
   "cell_type": "code",
   "execution_count": 21,
   "id": "b70567a4",
   "metadata": {},
   "outputs": [],
   "source": [
    "d=np.ones((3,4))"
   ]
  },
  {
   "cell_type": "code",
   "execution_count": 22,
   "id": "86ee898d",
   "metadata": {},
   "outputs": [
    {
     "name": "stdout",
     "output_type": "stream",
     "text": [
      "[[1. 1. 1. 1.]\n",
      " [1. 1. 1. 1.]\n",
      " [1. 1. 1. 1.]]\n"
     ]
    }
   ],
   "source": [
    "print(d)"
   ]
  },
  {
   "cell_type": "code",
   "execution_count": 23,
   "id": "07acb9c4",
   "metadata": {},
   "outputs": [
    {
     "data": {
      "text/plain": [
       "array([[0., 0., 0., 0.],\n",
       "       [0., 0., 0., 0.],\n",
       "       [0., 0., 0., 0.]])"
      ]
     },
     "execution_count": 23,
     "metadata": {},
     "output_type": "execute_result"
    }
   ],
   "source": [
    "np.zeros((3,4))"
   ]
  },
  {
   "cell_type": "markdown",
   "id": "a547f834",
   "metadata": {},
   "source": [
    "### To create array of random element between 0 to 1 use np.random"
   ]
  },
  {
   "cell_type": "markdown",
   "id": "f979af73",
   "metadata": {},
   "source": [
    "First random is the class and 2nd random is the method used for creating array of random number"
   ]
  },
  {
   "cell_type": "code",
   "execution_count": 24,
   "id": "25c0aba4",
   "metadata": {},
   "outputs": [
    {
     "data": {
      "text/plain": [
       "array([[0.09562163, 0.95469436, 0.35541744],\n",
       "       [0.31007891, 0.192903  , 0.46999619]])"
      ]
     },
     "execution_count": 24,
     "metadata": {},
     "output_type": "execute_result"
    }
   ],
   "source": [
    "np.random.random((2,3))"
   ]
  },
  {
   "cell_type": "markdown",
   "id": "bd965ae3",
   "metadata": {},
   "source": [
    "### To create array at equal distance between given range use..."
   ]
  },
  {
   "cell_type": "markdown",
   "id": "25efa680",
   "metadata": {},
   "source": [
    "np.linspace()--> which is linear space takes three arguments\n",
    "1. lower limit \n",
    "2. upper limit\n",
    "3. Number of items"
   ]
  },
  {
   "cell_type": "code",
   "execution_count": 25,
   "id": "1ed3b85e",
   "metadata": {},
   "outputs": [
    {
     "data": {
      "text/plain": [
       "array([10.        , 14.44444444, 18.88888889, 23.33333333, 27.77777778,\n",
       "       32.22222222, 36.66666667, 41.11111111, 45.55555556, 50.        ])"
      ]
     },
     "execution_count": 25,
     "metadata": {},
     "output_type": "execute_result"
    }
   ],
   "source": [
    "np.linspace(10,50,10)"
   ]
  },
  {
   "cell_type": "markdown",
   "id": "6454f833",
   "metadata": {},
   "source": [
    "### To create identity matrix use .."
   ]
  },
  {
   "cell_type": "code",
   "execution_count": 26,
   "id": "2b67a6d4",
   "metadata": {},
   "outputs": [
    {
     "data": {
      "text/plain": [
       "array([[1., 0., 0.],\n",
       "       [0., 1., 0.],\n",
       "       [0., 0., 1.]])"
      ]
     },
     "execution_count": 26,
     "metadata": {},
     "output_type": "execute_result"
    }
   ],
   "source": [
    "np.identity(3)"
   ]
  },
  {
   "cell_type": "markdown",
   "id": "df0dc9cf",
   "metadata": {},
   "source": [
    "# 2. Array Attributes"
   ]
  },
  {
   "cell_type": "markdown",
   "id": "7e9a1005",
   "metadata": {},
   "source": [
    "### To check the dimesions of array use ndim (Number of dimensions)"
   ]
  },
  {
   "cell_type": "code",
   "execution_count": 27,
   "id": "d89586bd",
   "metadata": {},
   "outputs": [
    {
     "data": {
      "text/plain": [
       "2"
      ]
     },
     "execution_count": 27,
     "metadata": {},
     "output_type": "execute_result"
    }
   ],
   "source": [
    "arr2.ndim"
   ]
  },
  {
   "cell_type": "code",
   "execution_count": 28,
   "id": "de2a1e0d",
   "metadata": {},
   "outputs": [
    {
     "data": {
      "text/plain": [
       "1"
      ]
     },
     "execution_count": 28,
     "metadata": {},
     "output_type": "execute_result"
    }
   ],
   "source": [
    "a.ndim"
   ]
  },
  {
   "cell_type": "markdown",
   "id": "aa7e2838",
   "metadata": {},
   "source": [
    "### To check the shape of array i.e number of rows and columns use np.shape"
   ]
  },
  {
   "cell_type": "code",
   "execution_count": 29,
   "id": "118e72aa",
   "metadata": {},
   "outputs": [
    {
     "data": {
      "text/plain": [
       "(2, 3)"
      ]
     },
     "execution_count": 29,
     "metadata": {},
     "output_type": "execute_result"
    }
   ],
   "source": [
    "arr2.shape"
   ]
  },
  {
   "cell_type": "markdown",
   "id": "8662ca56",
   "metadata": {},
   "source": [
    "In the below code if array is 3d then 1st parameter tells how many 2-d arrays are present and 2nd,3rd parameter tells number of rows and number of columns in each 2-d array"
   ]
  },
  {
   "cell_type": "code",
   "execution_count": 30,
   "id": "2e6a20b1",
   "metadata": {},
   "outputs": [
    {
     "data": {
      "text/plain": [
       "(3, 2, 3)"
      ]
     },
     "execution_count": 30,
     "metadata": {},
     "output_type": "execute_result"
    }
   ],
   "source": [
    "arr3.shape"
   ]
  },
  {
   "cell_type": "markdown",
   "id": "95267b62",
   "metadata": {},
   "source": [
    "### To check the size of array means number of element present "
   ]
  },
  {
   "cell_type": "code",
   "execution_count": 31,
   "id": "a50583ee",
   "metadata": {},
   "outputs": [
    {
     "data": {
      "text/plain": [
       "18"
      ]
     },
     "execution_count": 31,
     "metadata": {},
     "output_type": "execute_result"
    }
   ],
   "source": [
    "arr3.size"
   ]
  },
  {
   "cell_type": "markdown",
   "id": "ce4ab154",
   "metadata": {},
   "source": [
    "### To check the memory size of each element in an array"
   ]
  },
  {
   "cell_type": "code",
   "execution_count": 32,
   "id": "74774bdb",
   "metadata": {},
   "outputs": [
    {
     "data": {
      "text/plain": [
       "4"
      ]
     },
     "execution_count": 32,
     "metadata": {},
     "output_type": "execute_result"
    }
   ],
   "source": [
    "arr2.itemsize"
   ]
  },
  {
   "cell_type": "markdown",
   "id": "07cfda42",
   "metadata": {},
   "source": [
    "#### To check the data type of element present in an array"
   ]
  },
  {
   "cell_type": "code",
   "execution_count": 33,
   "id": "f193e00f",
   "metadata": {},
   "outputs": [
    {
     "data": {
      "text/plain": [
       "dtype('int32')"
      ]
     },
     "execution_count": 33,
     "metadata": {},
     "output_type": "execute_result"
    }
   ],
   "source": [
    "arr3.dtype"
   ]
  },
  {
   "cell_type": "markdown",
   "id": "07861d6e",
   "metadata": {},
   "source": [
    "## Changing data type of an array which is already created"
   ]
  },
  {
   "cell_type": "code",
   "execution_count": 34,
   "id": "8f3fe12b",
   "metadata": {},
   "outputs": [
    {
     "data": {
      "text/plain": [
       "dtype('int32')"
      ]
     },
     "execution_count": 34,
     "metadata": {},
     "output_type": "execute_result"
    }
   ],
   "source": [
    "arr3.dtype"
   ]
  },
  {
   "cell_type": "code",
   "execution_count": 35,
   "id": "b3dfa19d",
   "metadata": {},
   "outputs": [
    {
     "name": "stderr",
     "output_type": "stream",
     "text": [
      "C:\\Users\\abhin\\AppData\\Local\\Temp\\ipykernel_5872\\4033585443.py:1: DeprecationWarning: `np.bool` is a deprecated alias for the builtin `bool`. To silence this warning, use `bool` by itself. Doing this will not modify any behavior and is safe. If you specifically wanted the numpy scalar type, use `np.bool_` here.\n",
      "Deprecated in NumPy 1.20; for more details and guidance: https://numpy.org/devdocs/release/1.20.0-notes.html#deprecations\n",
      "  arr3.astype(np.bool)\n"
     ]
    },
    {
     "data": {
      "text/plain": [
       "array([[[ True,  True,  True],\n",
       "        [ True,  True,  True]],\n",
       "\n",
       "       [[ True,  True,  True],\n",
       "        [ True,  True,  True]],\n",
       "\n",
       "       [[ True,  True,  True],\n",
       "        [ True,  True,  True]]])"
      ]
     },
     "execution_count": 35,
     "metadata": {},
     "output_type": "execute_result"
    }
   ],
   "source": [
    "arr3.astype(np.bool)"
   ]
  },
  {
   "cell_type": "markdown",
   "id": "2b74833b",
   "metadata": {},
   "source": [
    "# 3. Array Operations"
   ]
  },
  {
   "cell_type": "code",
   "execution_count": 36,
   "id": "97e5bb41",
   "metadata": {},
   "outputs": [],
   "source": [
    "a1=np.arange(12).reshape(3,4)\n",
    "a2=np.arange(12,24).reshape(3,4)"
   ]
  },
  {
   "cell_type": "code",
   "execution_count": 37,
   "id": "2bbba673",
   "metadata": {},
   "outputs": [
    {
     "data": {
      "text/plain": [
       "array([[ 0,  1,  2,  3],\n",
       "       [ 4,  5,  6,  7],\n",
       "       [ 8,  9, 10, 11]])"
      ]
     },
     "execution_count": 37,
     "metadata": {},
     "output_type": "execute_result"
    }
   ],
   "source": [
    "a1"
   ]
  },
  {
   "cell_type": "code",
   "execution_count": 38,
   "id": "1399fde9",
   "metadata": {},
   "outputs": [
    {
     "data": {
      "text/plain": [
       "array([[12, 13, 14, 15],\n",
       "       [16, 17, 18, 19],\n",
       "       [20, 21, 22, 23]])"
      ]
     },
     "execution_count": 38,
     "metadata": {},
     "output_type": "execute_result"
    }
   ],
   "source": [
    "a2"
   ]
  },
  {
   "cell_type": "markdown",
   "id": "a3fefebe",
   "metadata": {},
   "source": [
    "## 3.1 Scaler operation"
   ]
  },
  {
   "cell_type": "markdown",
   "id": "4bdc81e4",
   "metadata": {},
   "source": [
    "In scaler operation we did any operation with a single value for eg. Multiplication with 2, division with 5, addition with 10 etc.. 1. Arithmetic operation(+,-,*,/,**) 2. Relational operation(>,<,>=,<=,==,!=)"
   ]
  },
  {
   "cell_type": "code",
   "execution_count": 39,
   "id": "7efed313",
   "metadata": {},
   "outputs": [
    {
     "data": {
      "text/plain": [
       "array([[ 0,  3,  6,  9],\n",
       "       [12, 15, 18, 21],\n",
       "       [24, 27, 30, 33]])"
      ]
     },
     "execution_count": 39,
     "metadata": {},
     "output_type": "execute_result"
    }
   ],
   "source": [
    "a1*3"
   ]
  },
  {
   "cell_type": "code",
   "execution_count": 40,
   "id": "16907678",
   "metadata": {},
   "outputs": [
    {
     "data": {
      "text/plain": [
       "(array([[0. , 0.5, 1. , 1.5],\n",
       "        [2. , 2.5, 3. , 3.5],\n",
       "        [4. , 4.5, 5. , 5.5]]),\n",
       " array([[  0,   1,   4,   9],\n",
       "        [ 16,  25,  36,  49],\n",
       "        [ 64,  81, 100, 121]], dtype=int32),\n",
       " array([[ 5,  6,  7,  8],\n",
       "        [ 9, 10, 11, 12],\n",
       "        [13, 14, 15, 16]]),\n",
       " array([[-3, -2, -1,  0],\n",
       "        [ 1,  2,  3,  4],\n",
       "        [ 5,  6,  7,  8]]))"
      ]
     },
     "execution_count": 40,
     "metadata": {},
     "output_type": "execute_result"
    }
   ],
   "source": [
    "a1/2,a1**2,a1+5,a1-3"
   ]
  },
  {
   "cell_type": "code",
   "execution_count": 41,
   "id": "ba61ff46",
   "metadata": {},
   "outputs": [
    {
     "data": {
      "text/plain": [
       "array([[False, False, False, False],\n",
       "       [False, False,  True,  True],\n",
       "       [ True,  True,  True,  True]])"
      ]
     },
     "execution_count": 41,
     "metadata": {},
     "output_type": "execute_result"
    }
   ],
   "source": [
    "a1>5"
   ]
  },
  {
   "cell_type": "markdown",
   "id": "a5a59c6e",
   "metadata": {},
   "source": [
    "## 3.2 Vector operation"
   ]
  },
  {
   "cell_type": "markdown",
   "id": "83c97cab",
   "metadata": {},
   "source": [
    "When we apply any operation on 2 np.array it is called vector operation"
   ]
  },
  {
   "cell_type": "code",
   "execution_count": 42,
   "id": "119a3f1b",
   "metadata": {},
   "outputs": [
    {
     "data": {
      "text/plain": [
       "(array([[12, 14, 16, 18],\n",
       "        [20, 22, 24, 26],\n",
       "        [28, 30, 32, 34]]),\n",
       " array([[-12, -12, -12, -12],\n",
       "        [-12, -12, -12, -12],\n",
       "        [-12, -12, -12, -12]]),\n",
       " array([[  0,  13,  28,  45],\n",
       "        [ 64,  85, 108, 133],\n",
       "        [160, 189, 220, 253]]),\n",
       " array([[0.        , 0.07692308, 0.14285714, 0.2       ],\n",
       "        [0.25      , 0.29411765, 0.33333333, 0.36842105],\n",
       "        [0.4       , 0.42857143, 0.45454545, 0.47826087]]))"
      ]
     },
     "execution_count": 42,
     "metadata": {},
     "output_type": "execute_result"
    }
   ],
   "source": [
    "a1+a2,a1-a2,a1*a2,a1/a2"
   ]
  },
  {
   "cell_type": "markdown",
   "id": "daebfac7",
   "metadata": {},
   "source": [
    "# 4. Array functions"
   ]
  },
  {
   "cell_type": "code",
   "execution_count": 43,
   "id": "357eb797",
   "metadata": {},
   "outputs": [],
   "source": [
    "b1=np.random.random((3,3))\n",
    "b1=np.round(b1*100)"
   ]
  },
  {
   "cell_type": "code",
   "execution_count": 44,
   "id": "867aae39",
   "metadata": {},
   "outputs": [
    {
     "data": {
      "text/plain": [
       "array([[28, 28, 88],\n",
       "       [ 2, 99, 71],\n",
       "       [33, 68, 99]])"
      ]
     },
     "execution_count": 44,
     "metadata": {},
     "output_type": "execute_result"
    }
   ],
   "source": [
    "b1.astype(np.int32)"
   ]
  },
  {
   "cell_type": "markdown",
   "id": "95abe098",
   "metadata": {},
   "source": [
    "### 4.1 Algebraic function ( Max, Min, sum, prod)"
   ]
  },
  {
   "cell_type": "markdown",
   "id": "8a868b5d",
   "metadata": {},
   "source": [
    "Max returns maximum value present in array, Min returns minimum value present in array, sum returns sum of all element in array, prod return the product of all the element in array.\n",
    "If you want the max/min/sum/prod of rows or columns then axis=1==> row and axis=0==> column"
   ]
  },
  {
   "cell_type": "code",
   "execution_count": 45,
   "id": "61cb64b8",
   "metadata": {},
   "outputs": [
    {
     "data": {
      "text/plain": [
       "(2.0, 99.0, 516.0, 215466779759616.0)"
      ]
     },
     "execution_count": 45,
     "metadata": {},
     "output_type": "execute_result"
    }
   ],
   "source": [
    "np.min(b1),np.max(b1),np.sum(b1),np.prod(b1)"
   ]
  },
  {
   "cell_type": "code",
   "execution_count": 46,
   "id": "48fdd004",
   "metadata": {},
   "outputs": [
    {
     "data": {
      "text/plain": [
       "array([28.,  2., 33.])"
      ]
     },
     "execution_count": 46,
     "metadata": {},
     "output_type": "execute_result"
    }
   ],
   "source": [
    "np.min(b1,axis=1)"
   ]
  },
  {
   "cell_type": "markdown",
   "id": "44162adf",
   "metadata": {},
   "source": [
    "### 4.2 Statistical function (mean,median,mode,std,variance)"
   ]
  },
  {
   "cell_type": "markdown",
   "id": "69fb1c8c",
   "metadata": {},
   "source": [
    "mean returns the "
   ]
  },
  {
   "cell_type": "code",
   "execution_count": 47,
   "id": "2cf34862",
   "metadata": {},
   "outputs": [
    {
     "data": {
      "text/plain": [
       "(57.333333333333336, 68.0, 33.47967874530592, 1120.888888888889)"
      ]
     },
     "execution_count": 47,
     "metadata": {},
     "output_type": "execute_result"
    }
   ],
   "source": [
    "np.mean(b1),np.median(b1),np.std(b1),np.var(b1)"
   ]
  },
  {
   "cell_type": "code",
   "execution_count": 48,
   "id": "70c7813e",
   "metadata": {},
   "outputs": [
    {
     "data": {
      "text/plain": [
       "array([48.        , 57.33333333, 66.66666667])"
      ]
     },
     "execution_count": 48,
     "metadata": {},
     "output_type": "execute_result"
    }
   ],
   "source": [
    "np.mean(b1,axis=1)"
   ]
  },
  {
   "cell_type": "markdown",
   "id": "808c5243",
   "metadata": {},
   "source": [
    "### Dot product"
   ]
  },
  {
   "cell_type": "markdown",
   "id": "7bd99a31",
   "metadata": {},
   "source": [
    "Dot product (3,4).(4,3) multiplication is done row by column similar to the matrix in 12th class we have done"
   ]
  },
  {
   "cell_type": "code",
   "execution_count": 49,
   "id": "bffb9d2b",
   "metadata": {},
   "outputs": [],
   "source": [
    "c1=np.arange(12).reshape(3,4)\n",
    "c2=np.arange(12,24).reshape(4,3)\n",
    "prod=np.dot(c1,c2)"
   ]
  },
  {
   "cell_type": "code",
   "execution_count": 50,
   "id": "e1e0c1c3",
   "metadata": {},
   "outputs": [
    {
     "name": "stdout",
     "output_type": "stream",
     "text": [
      "[[114 120 126]\n",
      " [378 400 422]\n",
      " [642 680 718]]\n"
     ]
    }
   ],
   "source": [
    "print(prod)"
   ]
  },
  {
   "cell_type": "markdown",
   "id": "a902e8f4",
   "metadata": {},
   "source": [
    "### log, exp, round, floor, ceil "
   ]
  },
  {
   "cell_type": "code",
   "execution_count": 51,
   "id": "69132cc2",
   "metadata": {},
   "outputs": [
    {
     "data": {
      "text/plain": [
       "(array([[2.48490665, 2.56494936, 2.63905733],\n",
       "        [2.7080502 , 2.77258872, 2.83321334],\n",
       "        [2.89037176, 2.94443898, 2.99573227],\n",
       "        [3.04452244, 3.09104245, 3.13549422]]),\n",
       " array([[1.00000000e+00, 2.71828183e+00, 7.38905610e+00, 2.00855369e+01],\n",
       "        [5.45981500e+01, 1.48413159e+02, 4.03428793e+02, 1.09663316e+03],\n",
       "        [2.98095799e+03, 8.10308393e+03, 2.20264658e+04, 5.98741417e+04]]))"
      ]
     },
     "execution_count": 51,
     "metadata": {},
     "output_type": "execute_result"
    }
   ],
   "source": [
    "np.log(c2),np.exp(a1)"
   ]
  },
  {
   "cell_type": "code",
   "execution_count": 52,
   "id": "2dff83bf",
   "metadata": {},
   "outputs": [
    {
     "data": {
      "text/plain": [
       "array([[46., 48., 39., 39.],\n",
       "       [70., 70.,  2.,  9.],\n",
       "       [12., 21., 44., 49.]])"
      ]
     },
     "execution_count": 52,
     "metadata": {},
     "output_type": "execute_result"
    }
   ],
   "source": [
    "np.round(np.random.random((3,4))*100)"
   ]
  },
  {
   "cell_type": "code",
   "execution_count": 53,
   "id": "09e68425",
   "metadata": {},
   "outputs": [
    {
     "data": {
      "text/plain": [
       "array([[ 9., 72., 12., 56.],\n",
       "       [11.,  2., 61., 70.],\n",
       "       [34., 24., 22., 33.]])"
      ]
     },
     "execution_count": 53,
     "metadata": {},
     "output_type": "execute_result"
    }
   ],
   "source": [
    "np.floor(np.random.random((3,4))*100)"
   ]
  },
  {
   "cell_type": "code",
   "execution_count": 54,
   "id": "5bd432f7",
   "metadata": {},
   "outputs": [
    {
     "data": {
      "text/plain": [
       "array([[86., 33., 70., 53.],\n",
       "       [14., 81., 54., 96.],\n",
       "       [42.,  1., 19., 22.]])"
      ]
     },
     "execution_count": 54,
     "metadata": {},
     "output_type": "execute_result"
    }
   ],
   "source": [
    "np.ceil(np.random.random((3,4))*100)"
   ]
  },
  {
   "cell_type": "markdown",
   "id": "8eb47f2b",
   "metadata": {},
   "source": [
    "# 5. Indexing and slicing"
   ]
  },
  {
   "cell_type": "code",
   "execution_count": 55,
   "id": "3252bd74",
   "metadata": {},
   "outputs": [],
   "source": [
    "d1=np.arange(10)\n",
    "d2=np.arange(12).reshape(3,4)\n",
    "d3=np.arange(8).reshape(2,2,2)"
   ]
  },
  {
   "cell_type": "code",
   "execution_count": 56,
   "id": "831719f7",
   "metadata": {},
   "outputs": [
    {
     "data": {
      "text/plain": [
       "(array([0, 1, 2, 3, 4, 5, 6, 7, 8, 9]),\n",
       " array([[ 0,  1,  2,  3],\n",
       "        [ 4,  5,  6,  7],\n",
       "        [ 8,  9, 10, 11]]),\n",
       " array([[[0, 1],\n",
       "         [2, 3]],\n",
       " \n",
       "        [[4, 5],\n",
       "         [6, 7]]]))"
      ]
     },
     "execution_count": 56,
     "metadata": {},
     "output_type": "execute_result"
    }
   ],
   "source": [
    "d1,d2,d3"
   ]
  },
  {
   "cell_type": "markdown",
   "id": "0f56fe00",
   "metadata": {},
   "source": [
    "Indexing start from 0 to n-1, for the first element it is 0 and for the last element it is -1.\n",
    "index number should be written inside the square braces"
   ]
  },
  {
   "cell_type": "code",
   "execution_count": 57,
   "id": "8b9c031f",
   "metadata": {},
   "outputs": [
    {
     "data": {
      "text/plain": [
       "(0, 9)"
      ]
     },
     "execution_count": 57,
     "metadata": {},
     "output_type": "execute_result"
    }
   ],
   "source": [
    "d1[0],d1[-1]"
   ]
  },
  {
   "cell_type": "code",
   "execution_count": 58,
   "id": "6e01dc4d",
   "metadata": {},
   "outputs": [
    {
     "data": {
      "text/plain": [
       "(1, 6)"
      ]
     },
     "execution_count": 58,
     "metadata": {},
     "output_type": "execute_result"
    }
   ],
   "source": [
    "d2[0][1],d2[1,2]"
   ]
  },
  {
   "cell_type": "markdown",
   "id": "7c3d571e",
   "metadata": {},
   "source": [
    "to find the element in 3-d array first we will pass the index of 2-d array then pass the row followed by column\n",
    "d3[1,0,1]"
   ]
  },
  {
   "cell_type": "code",
   "execution_count": 59,
   "id": "593e25ce",
   "metadata": {},
   "outputs": [
    {
     "data": {
      "text/plain": [
       "5"
      ]
     },
     "execution_count": 59,
     "metadata": {},
     "output_type": "execute_result"
    }
   ],
   "source": [
    "d3[1,0,1]"
   ]
  },
  {
   "cell_type": "code",
   "execution_count": 60,
   "id": "1b21d177",
   "metadata": {},
   "outputs": [
    {
     "data": {
      "text/plain": [
       "2"
      ]
     },
     "execution_count": 60,
     "metadata": {},
     "output_type": "execute_result"
    }
   ],
   "source": [
    "d3[0,1,0]"
   ]
  },
  {
   "cell_type": "code",
   "execution_count": 61,
   "id": "c58ffca0",
   "metadata": {},
   "outputs": [
    {
     "data": {
      "text/plain": [
       "(array([0, 1, 2]), array([3, 5]))"
      ]
     },
     "execution_count": 61,
     "metadata": {},
     "output_type": "execute_result"
    }
   ],
   "source": [
    "d1[0:3],d1[3:7:2]"
   ]
  },
  {
   "cell_type": "code",
   "execution_count": 62,
   "id": "20147d06",
   "metadata": {},
   "outputs": [
    {
     "data": {
      "text/plain": [
       "array([0, 1, 2, 3])"
      ]
     },
     "execution_count": 62,
     "metadata": {},
     "output_type": "execute_result"
    }
   ],
   "source": [
    "d2[0,:]"
   ]
  },
  {
   "cell_type": "code",
   "execution_count": 63,
   "id": "5a2cf854",
   "metadata": {},
   "outputs": [
    {
     "data": {
      "text/plain": [
       "array([[1, 2, 3],\n",
       "       [5, 6, 7]])"
      ]
     },
     "execution_count": 63,
     "metadata": {},
     "output_type": "execute_result"
    }
   ],
   "source": [
    "d2[0:2,1:]"
   ]
  },
  {
   "cell_type": "markdown",
   "id": "9e343016",
   "metadata": {},
   "source": [
    "Slicing is done by row and column [0:2,3:7], 0 to 2 row and columns from 3 to 7 "
   ]
  },
  {
   "cell_type": "code",
   "execution_count": 64,
   "id": "56e8d8c6",
   "metadata": {},
   "outputs": [
    {
     "data": {
      "text/plain": [
       "array([[ 1,  3],\n",
       "       [ 9, 11]])"
      ]
     },
     "execution_count": 64,
     "metadata": {},
     "output_type": "execute_result"
    }
   ],
   "source": [
    "d2[::2,1::2]"
   ]
  },
  {
   "cell_type": "code",
   "execution_count": 65,
   "id": "7027894e",
   "metadata": {},
   "outputs": [
    {
     "data": {
      "text/plain": [
       "array([4, 7])"
      ]
     },
     "execution_count": 65,
     "metadata": {},
     "output_type": "execute_result"
    }
   ],
   "source": [
    "d2[1,::3]"
   ]
  },
  {
   "cell_type": "code",
   "execution_count": 66,
   "id": "1da69456",
   "metadata": {},
   "outputs": [],
   "source": [
    "d4=np.arange(27).reshape(3,3,3)"
   ]
  },
  {
   "cell_type": "code",
   "execution_count": 67,
   "id": "a9ad30fb",
   "metadata": {},
   "outputs": [
    {
     "data": {
      "text/plain": [
       "array([[[ 0,  1,  2],\n",
       "        [ 3,  4,  5],\n",
       "        [ 6,  7,  8]],\n",
       "\n",
       "       [[ 9, 10, 11],\n",
       "        [12, 13, 14],\n",
       "        [15, 16, 17]],\n",
       "\n",
       "       [[18, 19, 20],\n",
       "        [21, 22, 23],\n",
       "        [24, 25, 26]]])"
      ]
     },
     "execution_count": 67,
     "metadata": {},
     "output_type": "execute_result"
    }
   ],
   "source": [
    "d4"
   ]
  },
  {
   "cell_type": "markdown",
   "id": "c2ea46ff",
   "metadata": {},
   "source": [
    "Now we will do the slicing in the 3-d array. [starting index:ending index:jump(skip)]"
   ]
  },
  {
   "cell_type": "code",
   "execution_count": 68,
   "id": "75260616",
   "metadata": {},
   "outputs": [
    {
     "data": {
      "text/plain": [
       "array([[[ 0,  1,  2],\n",
       "        [ 3,  4,  5],\n",
       "        [ 6,  7,  8]],\n",
       "\n",
       "       [[18, 19, 20],\n",
       "        [21, 22, 23],\n",
       "        [24, 25, 26]]])"
      ]
     },
     "execution_count": 68,
     "metadata": {},
     "output_type": "execute_result"
    }
   ],
   "source": [
    "d4[::2]"
   ]
  },
  {
   "cell_type": "code",
   "execution_count": 69,
   "id": "801dbeee",
   "metadata": {},
   "outputs": [
    {
     "data": {
      "text/plain": [
       "array([3, 4, 5])"
      ]
     },
     "execution_count": 69,
     "metadata": {},
     "output_type": "execute_result"
    }
   ],
   "source": [
    "d4[0,1,:]#slicing 1st 2-d array and 2nd row with all columns i.e 3,4,5"
   ]
  },
  {
   "cell_type": "markdown",
   "id": "a4a0e5fa",
   "metadata": {},
   "source": [
    "To print 2nd 2-d arrays 2nd columns with all the rows"
   ]
  },
  {
   "cell_type": "code",
   "execution_count": 70,
   "id": "604577df",
   "metadata": {},
   "outputs": [
    {
     "data": {
      "text/plain": [
       "array([10, 13, 16])"
      ]
     },
     "execution_count": 70,
     "metadata": {},
     "output_type": "execute_result"
    }
   ],
   "source": [
    "d4[1,:,1]"
   ]
  },
  {
   "cell_type": "markdown",
   "id": "595b24dd",
   "metadata": {},
   "source": [
    "To fetch 22,23,25,26 from the array we will do slicing"
   ]
  },
  {
   "cell_type": "code",
   "execution_count": 71,
   "id": "57ef91ac",
   "metadata": {},
   "outputs": [
    {
     "data": {
      "text/plain": [
       "array([[22, 23],\n",
       "       [25, 26]])"
      ]
     },
     "execution_count": 71,
     "metadata": {},
     "output_type": "execute_result"
    }
   ],
   "source": [
    " d4[2,1:,1:]"
   ]
  },
  {
   "cell_type": "markdown",
   "id": "865b95ff",
   "metadata": {},
   "source": [
    "To fetch 0,2,18,20 from the array"
   ]
  },
  {
   "cell_type": "code",
   "execution_count": 72,
   "id": "057817a9",
   "metadata": {},
   "outputs": [
    {
     "data": {
      "text/plain": [
       "array([[ 0,  2],\n",
       "       [18, 20]])"
      ]
     },
     "execution_count": 72,
     "metadata": {},
     "output_type": "execute_result"
    }
   ],
   "source": [
    "d4[::2,0,::2]"
   ]
  },
  {
   "cell_type": "markdown",
   "id": "b9185924",
   "metadata": {},
   "source": [
    "### 5.1 Fancy indexing"
   ]
  },
  {
   "cell_type": "markdown",
   "id": "01568491",
   "metadata": {},
   "source": [
    "In fancy indexing we pass the list and in the list we pass the row number as well as columns as per need.\n",
    "for example. d2[[row numbers separated by commas 2,3,4],[columns number separated by commas]]"
   ]
  },
  {
   "cell_type": "code",
   "execution_count": 73,
   "id": "f65599d7",
   "metadata": {},
   "outputs": [],
   "source": [
    "d=np.arange(24).reshape(6,4)"
   ]
  },
  {
   "cell_type": "code",
   "execution_count": 74,
   "id": "823086d7",
   "metadata": {},
   "outputs": [
    {
     "data": {
      "text/plain": [
       "array([[ 4,  5,  6,  7],\n",
       "       [12, 13, 14, 15],\n",
       "       [20, 21, 22, 23]])"
      ]
     },
     "execution_count": 74,
     "metadata": {},
     "output_type": "execute_result"
    }
   ],
   "source": [
    "d[[1,3,5]]# To print the row number having index 1,3,5"
   ]
  },
  {
   "cell_type": "code",
   "execution_count": 75,
   "id": "bf6638dc",
   "metadata": {},
   "outputs": [
    {
     "data": {
      "text/plain": [
       "array([[ 2,  3],\n",
       "       [ 6,  7],\n",
       "       [10, 11],\n",
       "       [14, 15],\n",
       "       [18, 19],\n",
       "       [22, 23]])"
      ]
     },
     "execution_count": 75,
     "metadata": {},
     "output_type": "execute_result"
    }
   ],
   "source": [
    "d[:,[2,3]]# sare row and 2,3 columns as per indexing"
   ]
  },
  {
   "cell_type": "markdown",
   "id": "d57aefdc",
   "metadata": {},
   "source": [
    "### 5.2 Boolean indexing ==> means indexing based on condition "
   ]
  },
  {
   "cell_type": "markdown",
   "id": "292adb4c",
   "metadata": {},
   "source": [
    "Boolean indeximg means condition based fetching element from the array. for eg u have to find out those element who are the multiple of 5, or find out those element who are even/odd."
   ]
  },
  {
   "cell_type": "code",
   "execution_count": 76,
   "id": "e6085fe8",
   "metadata": {},
   "outputs": [],
   "source": [
    "f=np.random.randint(1,100,24).reshape(6,4)"
   ]
  },
  {
   "cell_type": "markdown",
   "id": "87ecd2e5",
   "metadata": {},
   "source": [
    "np.random.randint()==> produce the value between two value it took 3 argument \n",
    "1. lower range\n",
    "2. higher range\n",
    "3. Number of element in between range"
   ]
  },
  {
   "cell_type": "code",
   "execution_count": 77,
   "id": "44a74879",
   "metadata": {},
   "outputs": [
    {
     "data": {
      "text/plain": [
       "array([[25, 54, 78, 87],\n",
       "       [87, 95, 24, 81],\n",
       "       [69, 61,  4, 61],\n",
       "       [87,  7, 42, 37],\n",
       "       [55, 35, 81, 78],\n",
       "       [25, 29, 21, 54]])"
      ]
     },
     "execution_count": 77,
     "metadata": {},
     "output_type": "execute_result"
    }
   ],
   "source": [
    "f"
   ]
  },
  {
   "cell_type": "markdown",
   "id": "a3d7ef1c",
   "metadata": {},
   "source": [
    "Q.1 Find all the elements greater than 60\n",
    "Q.2 Find all the elements greater than 50 and even\n",
    "Q.3 Find the even element "
   ]
  },
  {
   "cell_type": "code",
   "execution_count": 78,
   "id": "14fae709",
   "metadata": {},
   "outputs": [
    {
     "data": {
      "text/plain": [
       "array([[False, False,  True,  True],\n",
       "       [ True,  True, False,  True],\n",
       "       [ True,  True, False,  True],\n",
       "       [ True, False, False, False],\n",
       "       [False, False,  True,  True],\n",
       "       [False, False, False, False]])"
      ]
     },
     "execution_count": 78,
     "metadata": {},
     "output_type": "execute_result"
    }
   ],
   "source": [
    "f>60"
   ]
  },
  {
   "cell_type": "code",
   "execution_count": 79,
   "id": "a92a8f8c",
   "metadata": {},
   "outputs": [
    {
     "data": {
      "text/plain": [
       "array([78, 87, 87, 95, 81, 69, 61, 61, 87, 81, 78])"
      ]
     },
     "execution_count": 79,
     "metadata": {},
     "output_type": "execute_result"
    }
   ],
   "source": [
    "f[f>60]"
   ]
  },
  {
   "cell_type": "code",
   "execution_count": 80,
   "id": "08ab7dc1",
   "metadata": {},
   "outputs": [
    {
     "data": {
      "text/plain": [
       "array([[False,  True,  True, False],\n",
       "       [False, False,  True, False],\n",
       "       [False, False,  True, False],\n",
       "       [False, False,  True, False],\n",
       "       [False, False, False,  True],\n",
       "       [False, False, False,  True]])"
      ]
     },
     "execution_count": 80,
     "metadata": {},
     "output_type": "execute_result"
    }
   ],
   "source": [
    "f%2==0"
   ]
  },
  {
   "cell_type": "code",
   "execution_count": 81,
   "id": "78441d30",
   "metadata": {},
   "outputs": [
    {
     "data": {
      "text/plain": [
       "array([54, 78, 24,  4, 42, 78, 54])"
      ]
     },
     "execution_count": 81,
     "metadata": {},
     "output_type": "execute_result"
    }
   ],
   "source": [
    "f[f%2==0]"
   ]
  },
  {
   "cell_type": "code",
   "execution_count": 82,
   "id": "f270c42a",
   "metadata": {},
   "outputs": [
    {
     "data": {
      "text/plain": [
       "array([78, 78])"
      ]
     },
     "execution_count": 82,
     "metadata": {},
     "output_type": "execute_result"
    }
   ],
   "source": [
    "f[(f>60)&(f%2==0)]"
   ]
  },
  {
   "cell_type": "markdown",
   "id": "ecac4ad8",
   "metadata": {},
   "source": [
    "# 6. Iterating"
   ]
  },
  {
   "cell_type": "code",
   "execution_count": 83,
   "id": "370272b9",
   "metadata": {},
   "outputs": [
    {
     "name": "stdout",
     "output_type": "stream",
     "text": [
      "0\n",
      "1\n",
      "2\n",
      "3\n",
      "4\n",
      "5\n",
      "6\n",
      "7\n",
      "8\n",
      "9\n"
     ]
    }
   ],
   "source": [
    "for i in d1:\n",
    "    print(i)"
   ]
  },
  {
   "cell_type": "markdown",
   "id": "e2ed69fe",
   "metadata": {},
   "source": [
    "np.nditer(array)==> it will convert in 1-d array of those array who is already in higher dimensions like 3-d,2-d, and from there you can access the element easily"
   ]
  },
  {
   "cell_type": "code",
   "execution_count": 84,
   "id": "bea01c13",
   "metadata": {},
   "outputs": [
    {
     "name": "stdout",
     "output_type": "stream",
     "text": [
      "0\n",
      "1\n",
      "2\n",
      "3\n",
      "4\n",
      "5\n",
      "6\n",
      "7\n",
      "8\n",
      "9\n",
      "10\n",
      "11\n",
      "12\n",
      "13\n",
      "14\n",
      "15\n",
      "16\n",
      "17\n",
      "18\n",
      "19\n",
      "20\n",
      "21\n",
      "22\n",
      "23\n",
      "24\n",
      "25\n",
      "26\n"
     ]
    }
   ],
   "source": [
    "for i in np.nditer(d4):\n",
    "    print(i)"
   ]
  },
  {
   "cell_type": "markdown",
   "id": "b8ed3016",
   "metadata": {},
   "source": [
    "# 7. Reshaping"
   ]
  },
  {
   "cell_type": "markdown",
   "id": "b5f869b6",
   "metadata": {},
   "source": [
    "In the reshaping there are three method..\n",
    "1. reshape ==> do convert in array formate like 3x4 3rows and 4 columns\n",
    "2. transpose ==> do convert row into columns and columns into row eg. 3x4 get converted onto 4x3\n",
    "3. ravel ==> do convert in 1-d array of higher dimensions array like 2-d,3-d etc..."
   ]
  },
  {
   "cell_type": "code",
   "execution_count": 85,
   "id": "108e87b2",
   "metadata": {},
   "outputs": [
    {
     "data": {
      "text/plain": [
       "array([[ 0,  4,  8],\n",
       "       [ 1,  5,  9],\n",
       "       [ 2,  6, 10],\n",
       "       [ 3,  7, 11]])"
      ]
     },
     "execution_count": 85,
     "metadata": {},
     "output_type": "execute_result"
    }
   ],
   "source": [
    "np.transpose(d2)"
   ]
  },
  {
   "cell_type": "code",
   "execution_count": 86,
   "id": "48e67168",
   "metadata": {},
   "outputs": [
    {
     "data": {
      "text/plain": [
       "array([[ 0,  4,  8],\n",
       "       [ 1,  5,  9],\n",
       "       [ 2,  6, 10],\n",
       "       [ 3,  7, 11]])"
      ]
     },
     "execution_count": 86,
     "metadata": {},
     "output_type": "execute_result"
    }
   ],
   "source": [
    "d2.T"
   ]
  },
  {
   "cell_type": "code",
   "execution_count": 87,
   "id": "302d6cda",
   "metadata": {},
   "outputs": [
    {
     "data": {
      "text/plain": [
       "array([[0, 1, 2],\n",
       "       [3, 4, 5],\n",
       "       [6, 7, 8]])"
      ]
     },
     "execution_count": 87,
     "metadata": {},
     "output_type": "execute_result"
    }
   ],
   "source": [
    "np.arange(9).reshape(3,3)"
   ]
  },
  {
   "cell_type": "code",
   "execution_count": 88,
   "id": "21434b7e",
   "metadata": {},
   "outputs": [
    {
     "data": {
      "text/plain": [
       "array([ 0,  1,  2,  3,  4,  5,  6,  7,  8,  9, 10, 11, 12, 13, 14, 15, 16,\n",
       "       17, 18, 19, 20, 21, 22, 23, 24, 25, 26])"
      ]
     },
     "execution_count": 88,
     "metadata": {},
     "output_type": "execute_result"
    }
   ],
   "source": [
    "d4.ravel()"
   ]
  },
  {
   "cell_type": "markdown",
   "id": "327c834b",
   "metadata": {},
   "source": [
    "# 8. Stacking"
   ]
  },
  {
   "cell_type": "markdown",
   "id": "55e740b5",
   "metadata": {},
   "source": [
    "1. Horizontal Stacking\n",
    "2. Vertical Stacking"
   ]
  },
  {
   "cell_type": "code",
   "execution_count": 89,
   "id": "4d7f67a2",
   "metadata": {},
   "outputs": [
    {
     "data": {
      "text/plain": [
       "array([[12, 13, 14, 15],\n",
       "       [16, 17, 18, 19],\n",
       "       [20, 21, 22, 23]])"
      ]
     },
     "execution_count": 89,
     "metadata": {},
     "output_type": "execute_result"
    }
   ],
   "source": [
    "e4=np.arange(12).reshape(3,4)\n",
    "e5=np.arange(12,24).reshape(3,4)\n",
    "e5"
   ]
  },
  {
   "cell_type": "code",
   "execution_count": 90,
   "id": "ddc7c539",
   "metadata": {},
   "outputs": [
    {
     "data": {
      "text/plain": [
       "array([[ 0,  1,  2,  3, 12, 13, 14, 15,  0,  1,  2,  3],\n",
       "       [ 4,  5,  6,  7, 16, 17, 18, 19,  4,  5,  6,  7],\n",
       "       [ 8,  9, 10, 11, 20, 21, 22, 23,  8,  9, 10, 11]])"
      ]
     },
     "execution_count": 90,
     "metadata": {},
     "output_type": "execute_result"
    }
   ],
   "source": [
    "np.hstack((e4,e5,e4))"
   ]
  },
  {
   "cell_type": "code",
   "execution_count": 91,
   "id": "f47f8e21",
   "metadata": {},
   "outputs": [
    {
     "data": {
      "text/plain": [
       "array([[ 0,  1,  2,  3],\n",
       "       [ 4,  5,  6,  7],\n",
       "       [ 8,  9, 10, 11],\n",
       "       [12, 13, 14, 15],\n",
       "       [16, 17, 18, 19],\n",
       "       [20, 21, 22, 23]])"
      ]
     },
     "execution_count": 91,
     "metadata": {},
     "output_type": "execute_result"
    }
   ],
   "source": [
    "np.vstack((e4,e5))"
   ]
  },
  {
   "cell_type": "markdown",
   "id": "ac3be0b3",
   "metadata": {},
   "source": [
    "# 9. Splitting"
   ]
  },
  {
   "cell_type": "markdown",
   "id": "9fc1237f",
   "metadata": {},
   "source": [
    "1. Horizontal splitting ==> it tooks the argument 1st is array and 2nd in how many parts u want to split\n",
    "2. Vertical splitting ==> it tooks the argument 1st is array and 2nd in how many parts u want to split"
   ]
  },
  {
   "cell_type": "code",
   "execution_count": 92,
   "id": "49adad22",
   "metadata": {},
   "outputs": [
    {
     "data": {
      "text/plain": [
       "[array([[0, 1],\n",
       "        [4, 5],\n",
       "        [8, 9]]),\n",
       " array([[ 2,  3],\n",
       "        [ 6,  7],\n",
       "        [10, 11]])]"
      ]
     },
     "execution_count": 92,
     "metadata": {},
     "output_type": "execute_result"
    }
   ],
   "source": [
    "np.hsplit(e4,2)"
   ]
  },
  {
   "cell_type": "code",
   "execution_count": 93,
   "id": "a714704f",
   "metadata": {},
   "outputs": [
    {
     "data": {
      "text/plain": [
       "[array([[12, 13, 14, 15]]),\n",
       " array([[16, 17, 18, 19]]),\n",
       " array([[20, 21, 22, 23]])]"
      ]
     },
     "execution_count": 93,
     "metadata": {},
     "output_type": "execute_result"
    }
   ],
   "source": [
    "np.vsplit(e5,3)"
   ]
  },
  {
   "cell_type": "markdown",
   "id": "cc3be7ba",
   "metadata": {},
   "source": [
    "# Numpy array vs Python list"
   ]
  },
  {
   "cell_type": "markdown",
   "id": "8b84ce9a",
   "metadata": {},
   "source": [
    "1. Numpy array is more faster than python list\n",
    "2. Array takes less memory than list"
   ]
  },
  {
   "cell_type": "markdown",
   "id": "e7eddcae",
   "metadata": {},
   "source": [
    "# 10. Broadcasting"
   ]
  },
  {
   "cell_type": "markdown",
   "id": "d33897a8",
   "metadata": {},
   "source": [
    "1. The term broadcasting describes how Numpy treats arrays with different shapes during arithmetic operation.\n",
    "2. The smaller array is 'broadcast' accross the larger array so that they have compatible shapes"
   ]
  },
  {
   "cell_type": "markdown",
   "id": "a0796f49",
   "metadata": {},
   "source": [
    "### Rules of broadcasting"
   ]
  },
  {
   "cell_type": "markdown",
   "id": "5c516642",
   "metadata": {},
   "source": [
    "1. Make the two arrays have the same number of dimensions.\n",
    "> If the number of dimensions of the two arrays are different, add new dimensions with the size 1 to the head of the array with the smaller dimension.\n",
    "2. Make each dimension of two arrays the same size.\n",
    "> If the sizes of each dimension of the two arrays do not match, dimensions with size 1 stretched to the size of the other array.\n",
    ">> If there is a dimension whose size is not 1 in either of the two arrays, it can not be broadcasted and an error is raised."
   ]
  },
  {
   "cell_type": "code",
   "execution_count": 94,
   "id": "157ad5b7",
   "metadata": {},
   "outputs": [
    {
     "name": "stdout",
     "output_type": "stream",
     "text": [
      "[[ 0  2  4]\n",
      " [ 3  5  7]\n",
      " [ 6  8 10]\n",
      " [ 9 11 13]]\n"
     ]
    }
   ],
   "source": [
    "a=np.arange(12).reshape(4,3)\n",
    "b=np.arange(3)\n",
    "print(a+b)"
   ]
  },
  {
   "cell_type": "code",
   "execution_count": 95,
   "id": "440cd3e9",
   "metadata": {},
   "outputs": [
    {
     "data": {
      "text/plain": [
       "(array([[ 0,  1,  2],\n",
       "        [ 3,  4,  5],\n",
       "        [ 6,  7,  8],\n",
       "        [ 9, 10, 11]]),\n",
       " array([0, 1, 2]))"
      ]
     },
     "execution_count": 95,
     "metadata": {},
     "output_type": "execute_result"
    }
   ],
   "source": [
    "a,b"
   ]
  },
  {
   "cell_type": "code",
   "execution_count": 96,
   "id": "725d2659",
   "metadata": {},
   "outputs": [
    {
     "ename": "ValueError",
     "evalue": "operands could not be broadcast together with shapes (3,4) (3,) ",
     "output_type": "error",
     "traceback": [
      "\u001b[1;31m---------------------------------------------------------------------------\u001b[0m",
      "\u001b[1;31mValueError\u001b[0m                                Traceback (most recent call last)",
      "Input \u001b[1;32mIn [96]\u001b[0m, in \u001b[0;36m<cell line: 3>\u001b[1;34m()\u001b[0m\n\u001b[0;32m      1\u001b[0m a\u001b[38;5;241m=\u001b[39mnp\u001b[38;5;241m.\u001b[39marange(\u001b[38;5;241m12\u001b[39m)\u001b[38;5;241m.\u001b[39mreshape(\u001b[38;5;241m3\u001b[39m,\u001b[38;5;241m4\u001b[39m)\n\u001b[0;32m      2\u001b[0m b\u001b[38;5;241m=\u001b[39mnp\u001b[38;5;241m.\u001b[39marange(\u001b[38;5;241m3\u001b[39m)\n\u001b[1;32m----> 3\u001b[0m \u001b[38;5;28mprint\u001b[39m(\u001b[43ma\u001b[49m\u001b[38;5;241;43m+\u001b[39;49m\u001b[43mb\u001b[49m)\n",
      "\u001b[1;31mValueError\u001b[0m: operands could not be broadcast together with shapes (3,4) (3,) "
     ]
    }
   ],
   "source": [
    "a=np.arange(12).reshape(3,4)\n",
    "b=np.arange(3)\n",
    "print(a+b)"
   ]
  },
  {
   "cell_type": "markdown",
   "id": "0106d247",
   "metadata": {},
   "source": [
    "We got error because of after broadcasting shape is not going to be same for mathematical operation that's why we got the error.(3)==>(1,3)==>(3,3) after broadcasted it would be 3x3 but we have 3x4 that's why error we are getting"
   ]
  },
  {
   "cell_type": "code",
   "execution_count": null,
   "id": "76c8e869",
   "metadata": {},
   "outputs": [],
   "source": [
    "a=np.arange(3).reshape(1,3)\n",
    "b=np.arange(3).reshape(3,1)\n",
    "print(a+b)"
   ]
  },
  {
   "cell_type": "markdown",
   "id": "9d8558b5",
   "metadata": {},
   "source": [
    "1 is not presents in anyone shape that can not be increase that's why error I am getting"
   ]
  },
  {
   "cell_type": "code",
   "execution_count": null,
   "id": "a94a0b0b",
   "metadata": {},
   "outputs": [],
   "source": [
    "a=np.arange(12).reshape(3,4)\n",
    "b=np.arange(12).reshape(4,3)\n",
    "print(a+b)"
   ]
  },
  {
   "cell_type": "markdown",
   "id": "26c3989f",
   "metadata": {},
   "source": [
    "# 11. Working with mathematical formulas"
   ]
  },
  {
   "cell_type": "markdown",
   "id": "bb1f4db4",
   "metadata": {},
   "source": [
    "1. sigmoid function ==> formula is: 1/(1+np.exp(-x)) ==> sigmoid function returns the value between 0 to 1"
   ]
  },
  {
   "cell_type": "code",
   "execution_count": null,
   "id": "1fa9af5b",
   "metadata": {},
   "outputs": [],
   "source": [
    "def sigmoid(array):\n",
    "    return 1/(1+np.exp(-(array)))\n",
    "a=np.arange(10)\n",
    "sigmoid(a)"
   ]
  },
  {
   "cell_type": "markdown",
   "id": "ce55d008",
   "metadata": {},
   "source": [
    "2. Mean squared error"
   ]
  },
  {
   "cell_type": "code",
   "execution_count": null,
   "id": "a3e24113",
   "metadata": {},
   "outputs": [],
   "source": [
    "actual=np.random.randint(1,50,25)\n",
    "predicted=np.random.randint(1,50,25)\n",
    "actual"
   ]
  },
  {
   "cell_type": "code",
   "execution_count": null,
   "id": "431bfbad",
   "metadata": {},
   "outputs": [],
   "source": [
    "predicted"
   ]
  },
  {
   "cell_type": "code",
   "execution_count": null,
   "id": "e7bf253c",
   "metadata": {},
   "outputs": [],
   "source": [
    "def MSE(actual,predicted):\n",
    "    return np.mean((actual-predicted)**2)\n",
    "MSE(actual,predicted)"
   ]
  },
  {
   "cell_type": "markdown",
   "id": "16fee9bc",
   "metadata": {},
   "source": [
    "# Working with missing values"
   ]
  },
  {
   "cell_type": "code",
   "execution_count": null,
   "id": "41c73cfe",
   "metadata": {},
   "outputs": [],
   "source": [
    "a=np.array([1,2,3,5,np.nan,6])"
   ]
  },
  {
   "cell_type": "code",
   "execution_count": null,
   "id": "e3ed55b7",
   "metadata": {},
   "outputs": [],
   "source": [
    "a"
   ]
  },
  {
   "cell_type": "code",
   "execution_count": null,
   "id": "2dd7dfaf",
   "metadata": {},
   "outputs": [],
   "source": [
    "np.isnan(a)"
   ]
  },
  {
   "cell_type": "code",
   "execution_count": null,
   "id": "1c28173b",
   "metadata": {},
   "outputs": [],
   "source": [
    "a[np.isnan(a)]"
   ]
  },
  {
   "cell_type": "code",
   "execution_count": null,
   "id": "c97e3517",
   "metadata": {},
   "outputs": [],
   "source": [
    "a[~np.isnan(a)]"
   ]
  },
  {
   "cell_type": "markdown",
   "id": "b31ca3a4",
   "metadata": {},
   "source": [
    "# 12. Plotting graphs"
   ]
  },
  {
   "cell_type": "markdown",
   "id": "8db26be3",
   "metadata": {},
   "source": [
    "Q.1 Plotting a 2-d graph of x=y.  ==> x and y should be shape size of array"
   ]
  },
  {
   "cell_type": "code",
   "execution_count": null,
   "id": "195da084",
   "metadata": {},
   "outputs": [],
   "source": [
    "import matplotlib.pyplot as plt\n",
    "x=np.linspace(-10,10,100)\n",
    "y=x\n",
    "plt.plot(x,y)"
   ]
  },
  {
   "cell_type": "markdown",
   "id": "46140312",
   "metadata": {},
   "source": [
    "Q.2 Plotting a graph of y=x^2"
   ]
  },
  {
   "cell_type": "code",
   "execution_count": null,
   "id": "bd8d79bb",
   "metadata": {},
   "outputs": [],
   "source": [
    "x=np.linspace(-50,50,100)\n",
    "y=x**2\n",
    "plt.plot(x,y)"
   ]
  },
  {
   "cell_type": "markdown",
   "id": "0d47e7ef",
   "metadata": {},
   "source": [
    "Q.3 Plotting graph of sinx"
   ]
  },
  {
   "cell_type": "code",
   "execution_count": null,
   "id": "31053b84",
   "metadata": {},
   "outputs": [],
   "source": [
    "x=np.linspace(-20,20,100)\n",
    "y=np.sin(x)\n",
    "plt.plot(x,y)"
   ]
  },
  {
   "cell_type": "code",
   "execution_count": null,
   "id": "b873add8",
   "metadata": {},
   "outputs": [],
   "source": [
    "x=np.linspace(-10,10,100)\n",
    "y=x*np.log(x)\n",
    "plt.plot(x,y)"
   ]
  },
  {
   "cell_type": "markdown",
   "id": "4593f9fc",
   "metadata": {},
   "source": [
    "Q.4 Plotting the plot of sigmoid function"
   ]
  },
  {
   "cell_type": "code",
   "execution_count": null,
   "id": "0925262c",
   "metadata": {},
   "outputs": [],
   "source": [
    "x=np.linspace(-10,10,100)\n",
    "y=1/(1+np.exp(-x))\n",
    "plt.plot(x,y)"
   ]
  },
  {
   "cell_type": "markdown",
   "id": "e747ab1a",
   "metadata": {},
   "source": [
    "# 13. Important tips and tricks"
   ]
  },
  {
   "cell_type": "markdown",
   "id": "01595110",
   "metadata": {},
   "source": [
    "#### 13.1 np.sort ==> Returns the sorted copy of an array"
   ]
  },
  {
   "cell_type": "code",
   "execution_count": null,
   "id": "e6f94fe6",
   "metadata": {},
   "outputs": [],
   "source": [
    "a=np.random.randint(1,100,15)"
   ]
  },
  {
   "cell_type": "code",
   "execution_count": null,
   "id": "b2af5c28",
   "metadata": {},
   "outputs": [],
   "source": [
    "a"
   ]
  },
  {
   "cell_type": "code",
   "execution_count": null,
   "id": "fcda3b5a",
   "metadata": {},
   "outputs": [],
   "source": [
    "np.sort(a)"
   ]
  },
  {
   "cell_type": "markdown",
   "id": "f8cc9856",
   "metadata": {},
   "source": [
    "To sort in descending order use np.sort(a)[::-1]"
   ]
  },
  {
   "cell_type": "code",
   "execution_count": null,
   "id": "d817beab",
   "metadata": {},
   "outputs": [],
   "source": [
    "np.sort(a)[::-1]"
   ]
  },
  {
   "cell_type": "markdown",
   "id": "3205007b",
   "metadata": {},
   "source": [
    "#### 13.2 np.append() ==> appends values along the mention axis at the end of the array"
   ]
  },
  {
   "cell_type": "code",
   "execution_count": null,
   "id": "b9b44023",
   "metadata": {},
   "outputs": [],
   "source": [
    "np.append(a,300)"
   ]
  },
  {
   "cell_type": "markdown",
   "id": "6afb6816",
   "metadata": {},
   "source": [
    "To add columns or rows in existing 2-d array "
   ]
  },
  {
   "cell_type": "code",
   "execution_count": null,
   "id": "39607a1d",
   "metadata": {},
   "outputs": [],
   "source": [
    "b=np.arange(12).reshape(3,4)"
   ]
  },
  {
   "cell_type": "code",
   "execution_count": null,
   "id": "07da820c",
   "metadata": {},
   "outputs": [],
   "source": [
    "b"
   ]
  },
  {
   "cell_type": "code",
   "execution_count": null,
   "id": "3f48911d",
   "metadata": {},
   "outputs": [],
   "source": [
    "np.append(b,np.random.random((b.shape[0],1)),axis=1)"
   ]
  },
  {
   "cell_type": "markdown",
   "id": "dcf7e5a7",
   "metadata": {},
   "source": [
    "#### 13.3 np.concatenate()==> concatenate a sequence of arrays along an existing axis"
   ]
  },
  {
   "cell_type": "code",
   "execution_count": null,
   "id": "29aa9ce8",
   "metadata": {},
   "outputs": [],
   "source": [
    "c=np.arange(6).reshape(2,3)\n",
    "d=np.arange(6,12).reshape(2,3)\n",
    "c,d"
   ]
  },
  {
   "cell_type": "code",
   "execution_count": null,
   "id": "aa1262f8",
   "metadata": {},
   "outputs": [],
   "source": [
    "np.concatenate((c,d),axis=0)"
   ]
  },
  {
   "cell_type": "code",
   "execution_count": null,
   "id": "49ef4d3e",
   "metadata": {},
   "outputs": [],
   "source": [
    "np.concatenate((c,d),axis=1)"
   ]
  },
  {
   "cell_type": "markdown",
   "id": "2877c55e",
   "metadata": {},
   "source": [
    "#### 13.4 np.unique()==> we can get unique values from an array given as a parameter"
   ]
  },
  {
   "cell_type": "code",
   "execution_count": null,
   "id": "ac0a46dc",
   "metadata": {},
   "outputs": [],
   "source": [
    "e=np.array([1,1,2,2,3,3,4,5,6,6])\n",
    "f=np.array([[1,2,3,1],[1,2,3,2]])\n",
    "e,f"
   ]
  },
  {
   "cell_type": "code",
   "execution_count": null,
   "id": "a389cde3",
   "metadata": {},
   "outputs": [],
   "source": [
    "np.unique(e),np.unique(f)"
   ]
  },
  {
   "cell_type": "markdown",
   "id": "bede38f3",
   "metadata": {},
   "source": [
    "#### 13.5 np.expand_dims()==> With the help of np.expand_dims we can get the expanded dimensions of an array"
   ]
  },
  {
   "cell_type": "code",
   "execution_count": null,
   "id": "0f3a0b2b",
   "metadata": {},
   "outputs": [],
   "source": [
    "a=np.arange(9)"
   ]
  },
  {
   "cell_type": "code",
   "execution_count": null,
   "id": "1cea5732",
   "metadata": {},
   "outputs": [],
   "source": [
    "np.expand_dims(a,axis=1)"
   ]
  },
  {
   "cell_type": "code",
   "execution_count": null,
   "id": "bb3121f5",
   "metadata": {},
   "outputs": [],
   "source": [
    "np.expand_dims(a,axis=0)"
   ]
  },
  {
   "cell_type": "markdown",
   "id": "c2904394",
   "metadata": {},
   "source": [
    "#### 13.6 np.where()==> Function returns the indices of elements in an input array where the given condition is satisfied"
   ]
  },
  {
   "cell_type": "markdown",
   "id": "a6b87168",
   "metadata": {},
   "source": [
    "Q.1 Find all the indices with all value greater than 50\n",
    "Q.2 Replace all value greater than 50 with 0\n",
    "> In np.where(condition,true's statement,false's statement)"
   ]
  },
  {
   "cell_type": "code",
   "execution_count": null,
   "id": "f663b876",
   "metadata": {},
   "outputs": [],
   "source": [
    "a=np.random.randint(1,100,15)"
   ]
  },
  {
   "cell_type": "code",
   "execution_count": null,
   "id": "13a37fc5",
   "metadata": {},
   "outputs": [],
   "source": [
    "a"
   ]
  },
  {
   "cell_type": "code",
   "execution_count": null,
   "id": "c2d87e82",
   "metadata": {},
   "outputs": [],
   "source": [
    "np.where(a>50)"
   ]
  },
  {
   "cell_type": "code",
   "execution_count": null,
   "id": "16bf9e0e",
   "metadata": {},
   "outputs": [],
   "source": [
    "np.where(a>50,0,a)"
   ]
  },
  {
   "cell_type": "markdown",
   "id": "67553ffb",
   "metadata": {},
   "source": [
    "#### 13.7 np.argmax(),np.argmin()==>Function returns indices of max/min element of the array in a particular axis"
   ]
  },
  {
   "cell_type": "code",
   "execution_count": null,
   "id": "d339fcb4",
   "metadata": {},
   "outputs": [],
   "source": [
    "a"
   ]
  },
  {
   "cell_type": "code",
   "execution_count": null,
   "id": "45199584",
   "metadata": {},
   "outputs": [],
   "source": [
    "np.argmax(a)"
   ]
  },
  {
   "cell_type": "code",
   "execution_count": null,
   "id": "97b374c3",
   "metadata": {},
   "outputs": [],
   "source": [
    "np.argmin(a)"
   ]
  },
  {
   "cell_type": "markdown",
   "id": "d28679b1",
   "metadata": {},
   "source": [
    "#### 13.8 np.cumsum()==>Function is used when we want to compute cumulative sum of array elements over a given  axis"
   ]
  },
  {
   "cell_type": "code",
   "execution_count": null,
   "id": "c59a9b3a",
   "metadata": {},
   "outputs": [],
   "source": [
    "b=np.arange(12).reshape(3,4)"
   ]
  },
  {
   "cell_type": "code",
   "execution_count": null,
   "id": "48447e02",
   "metadata": {},
   "outputs": [],
   "source": [
    "b"
   ]
  },
  {
   "cell_type": "code",
   "execution_count": null,
   "id": "e0fdce12",
   "metadata": {},
   "outputs": [],
   "source": [
    "a"
   ]
  },
  {
   "cell_type": "code",
   "execution_count": null,
   "id": "12e31e5c",
   "metadata": {},
   "outputs": [],
   "source": [
    "np.cumsum(a)"
   ]
  },
  {
   "cell_type": "code",
   "execution_count": null,
   "id": "943e34da",
   "metadata": {},
   "outputs": [],
   "source": [
    "np.cumsum(b,axis=0)"
   ]
  },
  {
   "cell_type": "code",
   "execution_count": null,
   "id": "f72fbab6",
   "metadata": {},
   "outputs": [],
   "source": [
    "np.cumprod(a)"
   ]
  },
  {
   "cell_type": "markdown",
   "id": "45c45a4d",
   "metadata": {},
   "source": [
    "#### 13.9 np.percentile()==>Function compute the nth percentile of the given data(array elements) along the specified axis"
   ]
  },
  {
   "cell_type": "code",
   "execution_count": null,
   "id": "6a4eef99",
   "metadata": {},
   "outputs": [],
   "source": [
    "np.percentile(a,75)#1st parameter is array and 2nd is percent"
   ]
  },
  {
   "cell_type": "code",
   "execution_count": null,
   "id": "8e5ede3e",
   "metadata": {},
   "outputs": [],
   "source": [
    "np.percentile(a,50)"
   ]
  },
  {
   "cell_type": "code",
   "execution_count": null,
   "id": "04df97b5",
   "metadata": {},
   "outputs": [],
   "source": [
    "np.median(a)"
   ]
  },
  {
   "cell_type": "markdown",
   "id": "eef526f0",
   "metadata": {},
   "source": [
    "#### 13.10 np.histogram()==> Function which represents the frequency of data distribution in the graphical form"
   ]
  },
  {
   "cell_type": "code",
   "execution_count": null,
   "id": "07e8e5be",
   "metadata": {},
   "outputs": [],
   "source": [
    "a"
   ]
  },
  {
   "cell_type": "code",
   "execution_count": null,
   "id": "4722417d",
   "metadata": {},
   "outputs": [],
   "source": [
    "np.histogram(a,bins=[0,10,20,30,40,50,60,70,80,90,100])"
   ]
  },
  {
   "cell_type": "markdown",
   "id": "f7ac9c3b",
   "metadata": {},
   "source": [
    "#### 13.11 np.corrcoef ==> Return pearson product moment correlation coefficient"
   ]
  },
  {
   "cell_type": "code",
   "execution_count": null,
   "id": "9bd0756b",
   "metadata": {},
   "outputs": [],
   "source": [
    "salary=np.array([20000,40000,25000,35000,60000])\n",
    "experience=np.array([1,3,2,4,2])\n",
    "np.corrcoef(salary,experience)"
   ]
  },
  {
   "cell_type": "markdown",
   "id": "1d7fdb99",
   "metadata": {},
   "source": [
    "#### 13.12 np.isin()==>To check the multiple element in an array"
   ]
  },
  {
   "cell_type": "code",
   "execution_count": 97,
   "id": "e50fcfda",
   "metadata": {},
   "outputs": [
    {
     "data": {
      "text/plain": [
       "array([[False, False, False, False],\n",
       "       [False, False, False, False],\n",
       "       [False, False,  True, False]])"
      ]
     },
     "execution_count": 97,
     "metadata": {},
     "output_type": "execute_result"
    }
   ],
   "source": [
    "list=[10,20,30,40,50,60,70]\n",
    "np.isin(a,list)"
   ]
  },
  {
   "cell_type": "code",
   "execution_count": 98,
   "id": "3899abad",
   "metadata": {},
   "outputs": [
    {
     "data": {
      "text/plain": [
       "array([10])"
      ]
     },
     "execution_count": 98,
     "metadata": {},
     "output_type": "execute_result"
    }
   ],
   "source": [
    "a[np.isin(a,list)]"
   ]
  },
  {
   "cell_type": "markdown",
   "id": "69955841",
   "metadata": {},
   "source": [
    "#### 13.13 np.flip()==> Function reverse the order of array elements along the specified axis, preserving the shape of the array"
   ]
  },
  {
   "cell_type": "code",
   "execution_count": 100,
   "id": "c2cd538d",
   "metadata": {},
   "outputs": [],
   "source": [
    "a=np.arange(10)"
   ]
  },
  {
   "cell_type": "code",
   "execution_count": 101,
   "id": "7b8982a9",
   "metadata": {},
   "outputs": [
    {
     "data": {
      "text/plain": [
       "array([0, 1, 2, 3, 4, 5, 6, 7, 8, 9])"
      ]
     },
     "execution_count": 101,
     "metadata": {},
     "output_type": "execute_result"
    }
   ],
   "source": [
    "a"
   ]
  },
  {
   "cell_type": "code",
   "execution_count": 102,
   "id": "6f71cd50",
   "metadata": {},
   "outputs": [
    {
     "data": {
      "text/plain": [
       "array([9, 8, 7, 6, 5, 4, 3, 2, 1, 0])"
      ]
     },
     "execution_count": 102,
     "metadata": {},
     "output_type": "execute_result"
    }
   ],
   "source": [
    "np.flip(a)"
   ]
  },
  {
   "cell_type": "markdown",
   "id": "4238099e",
   "metadata": {},
   "source": [
    "#### 13.14 np.put()==> Function replaces specific elements of an array with given values of p_array. Array indexed works on flattened array"
   ]
  },
  {
   "cell_type": "code",
   "execution_count": 103,
   "id": "c4011db5",
   "metadata": {},
   "outputs": [
    {
     "data": {
      "text/plain": [
       "array([0, 1, 2, 3, 4, 5, 6, 7, 8, 9])"
      ]
     },
     "execution_count": 103,
     "metadata": {},
     "output_type": "execute_result"
    }
   ],
   "source": [
    "a"
   ]
  },
  {
   "cell_type": "code",
   "execution_count": 105,
   "id": "8053b662",
   "metadata": {},
   "outputs": [],
   "source": [
    "np.put(a,[2,3],[30,40])"
   ]
  },
  {
   "cell_type": "code",
   "execution_count": 106,
   "id": "19e71563",
   "metadata": {},
   "outputs": [
    {
     "data": {
      "text/plain": [
       "array([ 0,  1, 30, 40,  4,  5,  6,  7,  8,  9])"
      ]
     },
     "execution_count": 106,
     "metadata": {},
     "output_type": "execute_result"
    }
   ],
   "source": [
    "a"
   ]
  },
  {
   "cell_type": "markdown",
   "id": "0477729c",
   "metadata": {},
   "source": [
    "#### 13.15 np.delete()==> Returns a new array with the deletion of sub-arrays along with the mentioned axis"
   ]
  },
  {
   "cell_type": "code",
   "execution_count": 107,
   "id": "09b56b28",
   "metadata": {},
   "outputs": [
    {
     "data": {
      "text/plain": [
       "array([ 1, 30, 40,  4,  5,  6,  7,  8,  9])"
      ]
     },
     "execution_count": 107,
     "metadata": {},
     "output_type": "execute_result"
    }
   ],
   "source": [
    "np.delete(a,0)"
   ]
  },
  {
   "cell_type": "code",
   "execution_count": 108,
   "id": "acf6e8dc",
   "metadata": {},
   "outputs": [
    {
     "data": {
      "text/plain": [
       "array([ 0,  1, 30,  4,  5,  8,  9])"
      ]
     },
     "execution_count": 108,
     "metadata": {},
     "output_type": "execute_result"
    }
   ],
   "source": [
    "np.delete(a,[3,6,7])"
   ]
  },
  {
   "cell_type": "markdown",
   "id": "b3cdcbde",
   "metadata": {},
   "source": [
    "# Set functions"
   ]
  },
  {
   "cell_type": "markdown",
   "id": "1a26ac78",
   "metadata": {},
   "source": [
    "1. np.union1d\n",
    "2. np.intersect1d\n",
    "3. np.setdiff1d\n",
    "4. np.setxor1d\n",
    "5. np.in1d"
   ]
  },
  {
   "cell_type": "code",
   "execution_count": 109,
   "id": "65c5bd21",
   "metadata": {},
   "outputs": [
    {
     "data": {
      "text/plain": [
       "array([1, 2, 3, 4, 5, 6, 7, 8, 9])"
      ]
     },
     "execution_count": 109,
     "metadata": {},
     "output_type": "execute_result"
    }
   ],
   "source": [
    "m=np.array([1,2,3,4,5,6])\n",
    "n=np.array([4,5,6,7,8,9])\n",
    "np.union1d(m,n)"
   ]
  },
  {
   "cell_type": "code",
   "execution_count": 110,
   "id": "0de920a7",
   "metadata": {},
   "outputs": [
    {
     "data": {
      "text/plain": [
       "array([4, 5, 6])"
      ]
     },
     "execution_count": 110,
     "metadata": {},
     "output_type": "execute_result"
    }
   ],
   "source": [
    "np.intersect1d(m,n)"
   ]
  },
  {
   "cell_type": "code",
   "execution_count": 111,
   "id": "fe31f1c4",
   "metadata": {},
   "outputs": [
    {
     "data": {
      "text/plain": [
       "array([1, 2, 3])"
      ]
     },
     "execution_count": 111,
     "metadata": {},
     "output_type": "execute_result"
    }
   ],
   "source": [
    "np.setdiff1d(m,n)"
   ]
  },
  {
   "cell_type": "code",
   "execution_count": 112,
   "id": "8116d6bb",
   "metadata": {},
   "outputs": [
    {
     "data": {
      "text/plain": [
       "array([1, 2, 3, 7, 8, 9])"
      ]
     },
     "execution_count": 112,
     "metadata": {},
     "output_type": "execute_result"
    }
   ],
   "source": [
    "np.setxor1d(m,n)"
   ]
  },
  {
   "cell_type": "code",
   "execution_count": 113,
   "id": "25afd0d6",
   "metadata": {},
   "outputs": [
    {
     "data": {
      "text/plain": [
       "array([False, False,  True, False, False, False])"
      ]
     },
     "execution_count": 113,
     "metadata": {},
     "output_type": "execute_result"
    }
   ],
   "source": [
    "np.in1d(m,3)"
   ]
  },
  {
   "cell_type": "code",
   "execution_count": 114,
   "id": "f14f7cc5",
   "metadata": {},
   "outputs": [
    {
     "data": {
      "text/plain": [
       "array([3])"
      ]
     },
     "execution_count": 114,
     "metadata": {},
     "output_type": "execute_result"
    }
   ],
   "source": [
    "m[np.in1d(m,3)]"
   ]
  },
  {
   "cell_type": "markdown",
   "id": "8294e67b",
   "metadata": {},
   "source": [
    "### np.clip()==> Function is used to limit the values in array"
   ]
  },
  {
   "cell_type": "code",
   "execution_count": 115,
   "id": "081b9304",
   "metadata": {},
   "outputs": [],
   "source": [
    "a=np.random.randint(1,100,15)"
   ]
  },
  {
   "cell_type": "code",
   "execution_count": 116,
   "id": "8489f2d7",
   "metadata": {},
   "outputs": [
    {
     "data": {
      "text/plain": [
       "array([ 9, 53, 33, 66, 65, 92, 13, 46, 77, 82, 94,  4, 96, 70, 32])"
      ]
     },
     "execution_count": 116,
     "metadata": {},
     "output_type": "execute_result"
    }
   ],
   "source": [
    "a"
   ]
  },
  {
   "cell_type": "code",
   "execution_count": 117,
   "id": "e2dbe278",
   "metadata": {},
   "outputs": [
    {
     "data": {
      "text/plain": [
       "array([20, 53, 33, 66, 65, 80, 20, 46, 77, 80, 80, 20, 80, 70, 32])"
      ]
     },
     "execution_count": 117,
     "metadata": {},
     "output_type": "execute_result"
    }
   ],
   "source": [
    "np.clip(a,a_min=20,a_max=80)"
   ]
  },
  {
   "cell_type": "code",
   "execution_count": null,
   "id": "4b3a34c2",
   "metadata": {},
   "outputs": [],
   "source": []
  }
 ],
 "metadata": {
  "kernelspec": {
   "display_name": "Python 3 (ipykernel)",
   "language": "python",
   "name": "python3"
  },
  "language_info": {
   "codemirror_mode": {
    "name": "ipython",
    "version": 3
   },
   "file_extension": ".py",
   "mimetype": "text/x-python",
   "name": "python",
   "nbconvert_exporter": "python",
   "pygments_lexer": "ipython3",
   "version": "3.9.12"
  }
 },
 "nbformat": 4,
 "nbformat_minor": 5
}
